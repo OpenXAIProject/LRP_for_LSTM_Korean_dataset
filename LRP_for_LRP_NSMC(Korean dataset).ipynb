{
 "cells": [
  {
   "cell_type": "markdown",
   "metadata": {},
   "source": [
    "### 1. 전처리 (base code :  https://cyc1am3n.github.io/2018/11/10/classifying_korean_movie_review.html)"
   ]
  },
  {
   "cell_type": "code",
   "execution_count": 1,
   "metadata": {},
   "outputs": [
    {
     "name": "stdout",
     "output_type": "stream",
     "text": [
      "[['아/I', '더빙/N', '../S', '진짜/N', '짜증나/P', '네/E', '요/J', '목소리/N'], '0']\n"
     ]
    }
   ],
   "source": [
    "import json\n",
    "import os\n",
    "import nltk\n",
    "import pickle\n",
    "import numpy as np\n",
    "from pprint import pprint\n",
    "\n",
    "if os.path.isfile('nsmc/train_docs_han.json'):\n",
    "    with open('nsmc/train_docs_han.json') as f:\n",
    "        train_docs = json.load(f)\n",
    "    with open('nsmc/test_docs_han.json') as f:\n",
    "        test_docs = json.load(f)\n",
    "        \n",
    "\n",
    "else:\n",
    "    train_docs = [(tokenize(row[1]), row[2]) for row in train_data] #row[1]은 문장, row[2]는 클래스\n",
    "    test_docs = [(tokenize(row[1]), row[2]) for row in test_data]\n",
    "\n",
    "    with open('nsmc/train_docs.json', 'w', encoding=\"utf-8\") as make_file:\n",
    "        json.dump(train_docs, make_file, ensure_ascii=False, indent=\"\\t\")\n",
    "    with open('nsmc/test_docs.json', 'w', encoding=\"utf-8\") as make_file:\n",
    "        json.dump(test_docs, make_file, ensure_ascii=False, indent=\"\\t\")\n",
    "\n",
    "pprint(train_docs[0])"
   ]
  },
  {
   "cell_type": "code",
   "execution_count": 2,
   "metadata": {},
   "outputs": [
    {
     "name": "stdout",
     "output_type": "stream",
     "text": [
      "2400992\n",
      "<Text: NMSC>\n"
     ]
    }
   ],
   "source": [
    "tokens = [t for d in train_docs for t in d[0]]\n",
    "print(len(tokens))\n",
    "\n",
    "text = nltk.Text(tokens, name='NMSC')\n",
    "print(text)\n",
    "\n",
    "train_y = [c for _, c in train_docs]\n",
    "test_y = [c for _, c in test_docs]"
   ]
  },
  {
   "cell_type": "code",
   "execution_count": 3,
   "metadata": {},
   "outputs": [
    {
     "name": "stdout",
     "output_type": "stream",
     "text": [
      "2400992\n",
      "175077\n",
      "[('이/J', 126395),\n",
      " ('./S', 74307),\n",
      " ('ㄴ/E', 48586),\n",
      " ('하/X', 41141),\n",
      " ('영화/N', 37452),\n",
      " ('어/E', 34695),\n",
      " ('보/P', 33373),\n",
      " ('고/E', 32374),\n",
      " ('다/E', 30892),\n",
      " ('의/J', 30885)]\n"
     ]
    }
   ],
   "source": [
    "# 전체 토큰의 개수\n",
    "print(len(text.tokens))\n",
    "\n",
    "# 중복을 제외한 토큰의 개수\n",
    "print(len(set(text.tokens)))            \n",
    "\n",
    "# 출현 빈도가 높은 상위 토큰 10개\n",
    "pprint(text.vocab().most_common(10))"
   ]
  },
  {
   "cell_type": "code",
   "execution_count": 4,
   "metadata": {},
   "outputs": [],
   "source": [
    "# selected_words_10000 = [f[0] for f in text.vocab().most_common(10000)]\n",
    "\n",
    "# #train data\n",
    "# train_x_common_10000 = []\n",
    "# for i in range(len(train_docs)):\n",
    "#     _ = []\n",
    "#     for word in train_docs[i][0] :\n",
    "#         try : \n",
    "#             _.append(selected_words_10000.index(word))\n",
    "#         except :\n",
    "#             _.append(10000)\n",
    "#     train_x_common_10000.append(_)\n",
    "    \n",
    "# #test data\n",
    "# test_x_common_10000 = []\n",
    "# for i in range(len(test_docs)):\n",
    "#     _ = []\n",
    "#     for word in test_docs[i][0] :\n",
    "#         try : \n",
    "#             _.append(selected_words_10000.index(word))\n",
    "#         except :\n",
    "#             _.append(10000)\n",
    "#     test_x_common_10000.append(_)\n",
    "\n",
    "\n",
    "\n",
    "# # Save \n",
    "# x_train = np.asarray(train_x).astype('float32')\n",
    "# x_test = np.asarray(test_x).astype('float32')\n",
    "\n",
    "# y_train = np.asarray(train_y).astype('float32')\n",
    "# y_test = np.asarray(test_y).astype('float32')\n",
    "    \n",
    "# with open(\"selected_words_10000.txt\", \"wb\") as fp:\n",
    "#     pickle.dump(selected_words_10000, fp)    "
   ]
  },
  {
   "cell_type": "code",
   "execution_count": 5,
   "metadata": {},
   "outputs": [],
   "source": [
    "#load \n",
    "with open(\"x_train_common_10000.txt\", \"rb\") as fp:\n",
    "    X_train = pickle.load(fp)\n",
    "with open(\"x_test_common_10000.txt\", \"rb\") as fp:\n",
    "    X_test = pickle.load(fp)\n",
    "with open(\"selected_words_10000.txt\", \"rb\") as fp:\n",
    "    selected_words_10000 = pickle.load(fp) "
   ]
  },
  {
   "cell_type": "markdown",
   "metadata": {},
   "source": [
    "### 2. LSTM 훈련"
   ]
  },
  {
   "cell_type": "code",
   "execution_count": 6,
   "metadata": {},
   "outputs": [
    {
     "name": "stderr",
     "output_type": "stream",
     "text": [
      "Using TensorFlow backend.\n"
     ]
    }
   ],
   "source": [
    "from __future__ import print_function\n",
    "import numpy as np\n",
    "import keras\n",
    "\n",
    "from keras.preprocessing.text import Tokenizer\n",
    "from keras.preprocessing.sequence import pad_sequences\n",
    "from keras.preprocessing import sequence\n",
    "from keras.models import Sequential\n",
    "from keras.layers import Dense, Dropout, Embedding, LSTM, Bidirectional\n",
    "from keras.datasets import imdb\n",
    "\n",
    "from keras import optimizers\n",
    "from keras import losses\n",
    "from keras import metrics\n",
    "\n",
    "from keras import backend as K\n",
    "from keras.models import Model\n",
    "\n",
    "import matplotlib.pyplot as plt\n",
    "from IPython.display import display, HTML\n"
   ]
  },
  {
   "cell_type": "code",
   "execution_count": 7,
   "metadata": {},
   "outputs": [],
   "source": [
    "max_features = 1000\n",
    "maxlen = 100\n",
    "batch_size = 1024"
   ]
  },
  {
   "cell_type": "code",
   "execution_count": 8,
   "metadata": {},
   "outputs": [],
   "source": [
    "# One-hot encoding the output\n",
    "num_classes = 2\n",
    "y_train = keras.utils.to_categorical(train_y, num_classes)\n",
    "y_test = keras.utils.to_categorical(test_y, num_classes)"
   ]
  },
  {
   "cell_type": "code",
   "execution_count": 9,
   "metadata": {},
   "outputs": [
    {
     "name": "stdout",
     "output_type": "stream",
     "text": [
      "훈련 데이터: 150000\n",
      "테스트 데이터: 50000\n",
      "카테고리: 2\n"
     ]
    }
   ],
   "source": [
    "print('훈련 데이터: {}'.format(len(X_train)))\n",
    "print('테스트 데이터: {}'.format(len(X_test)))\n",
    "print('카테고리: {}'.format(num_classes))"
   ]
  },
  {
   "cell_type": "code",
   "execution_count": 10,
   "metadata": {},
   "outputs": [
    {
     "data": {
      "image/png": "[encoded data removed]",
      "text/plain": [
       "<Figure size 432x288 with 1 Axes>"
      ]
     },
     "metadata": {
      "needs_background": "light"
     },
     "output_type": "display_data"
    }
   ],
   "source": [
    "plt.hist([len(s) for s in X_train], bins=50)\n",
    "plt.xlabel('length of Data')\n",
    "plt.ylabel('number of Data')\n",
    "plt.show()"
   ]
  },
  {
   "cell_type": "code",
   "execution_count": 11,
   "metadata": {},
   "outputs": [],
   "source": [
    "maxlen = 30\n",
    "x_train = sequence.pad_sequences(X_train, maxlen)\n",
    "x_test = sequence.pad_sequences(X_test, maxlen)"
   ]
  },
  {
   "cell_type": "code",
   "execution_count": 12,
   "metadata": {},
   "outputs": [
    {
     "data": {
      "text/plain": [
       "array([  0,   0,   0,   0,   0,   0,   0,   0,   0,   0,   0,   0,   0,\n",
       "         0,   0,   0,   0,   0,   0,   0,   0,   0, 135, 640,  11,  47,\n",
       "       505,  41,  28, 743], dtype=int32)"
      ]
     },
     "execution_count": 12,
     "metadata": {},
     "output_type": "execute_result"
    }
   ],
   "source": [
    "x_train[0]"
   ]
  },
  {
   "cell_type": "code",
   "execution_count": 13,
   "metadata": {
    "scrolled": true
   },
   "outputs": [
    {
     "name": "stdout",
     "output_type": "stream",
     "text": [
      "Train...\n",
      "Epoch 1/10\n",
      "150000/150000 [==============================] - 18s 117us/step - loss: 0.4949 - acc: 0.7592\n",
      "Epoch 2/10\n",
      "150000/150000 [==============================] - 12s 80us/step - loss: 0.3723 - acc: 0.8323\n",
      "Epoch 3/10\n",
      "150000/150000 [==============================] - 12s 80us/step - loss: 0.3485 - acc: 0.8425\n",
      "Epoch 4/10\n",
      "150000/150000 [==============================] - 12s 79us/step - loss: 0.3316 - acc: 0.8496\n",
      "Epoch 5/10\n",
      "150000/150000 [==============================] - 12s 82us/step - loss: 0.3165 - acc: 0.8556\n",
      "Epoch 6/10\n",
      "150000/150000 [==============================] - 12s 82us/step - loss: 0.3025 - acc: 0.8621\n",
      "Epoch 7/10\n",
      "150000/150000 [==============================] - 12s 81us/step - loss: 0.2886 - acc: 0.8686\n",
      "Epoch 8/10\n",
      "150000/150000 [==============================] - 12s 82us/step - loss: 0.2751 - acc: 0.8744\n",
      "Epoch 9/10\n",
      "150000/150000 [==============================] - 12s 79us/step - loss: 0.2618 - acc: 0.8804\n",
      "Epoch 10/10\n",
      "150000/150000 [==============================] - 12s 80us/step - loss: 0.2507 - acc: 0.8853\n"
     ]
    },
    {
     "data": {
      "text/plain": [
       "<keras.callbacks.History at 0x7f364bb09710>"
      ]
     },
     "execution_count": 13,
     "metadata": {},
     "output_type": "execute_result"
    }
   ],
   "source": [
    "model = Sequential()\n",
    "model.add(Embedding(10000, 128))\n",
    "model.add(LSTM(64))\n",
    "model.add(Dropout(0.5))\n",
    "model.add(Dense(num_classes, activation='sigmoid'))\n",
    "\n",
    "# try using different optimizers and different optimizer configs\n",
    "model.compile('adam', 'binary_crossentropy', metrics=['accuracy'])\n",
    "\n",
    "print('Train...')\n",
    "model.fit(x_train, y_train,\n",
    "          batch_size=batch_size,\n",
    "          epochs=10)"
   ]
  },
  {
   "cell_type": "code",
   "execution_count": 14,
   "metadata": {},
   "outputs": [
    {
     "name": "stdout",
     "output_type": "stream",
     "text": [
      "_________________________________________________________________\n",
      "Layer (type)                 Output Shape              Param #   \n",
      "=================================================================\n",
      "embedding_1 (Embedding)      (None, None, 128)         1280000   \n",
      "_________________________________________________________________\n",
      "lstm_1 (LSTM)                (None, 64)                49408     \n",
      "_________________________________________________________________\n",
      "dropout_1 (Dropout)          (None, 64)                0         \n",
      "_________________________________________________________________\n",
      "dense_1 (Dense)              (None, 2)                 130       \n",
      "=================================================================\n",
      "Total params: 1,329,538\n",
      "Trainable params: 1,329,538\n",
      "Non-trainable params: 0\n",
      "_________________________________________________________________\n"
     ]
    }
   ],
   "source": [
    "model.summary()"
   ]
  },
  {
   "cell_type": "code",
   "execution_count": 15,
   "metadata": {},
   "outputs": [
    {
     "name": "stdout",
     "output_type": "stream",
     "text": [
      "50000/50000 [==============================] - 35s 697us/step\n"
     ]
    }
   ],
   "source": [
    "results = model.evaluate(x_test, y_test)"
   ]
  },
  {
   "cell_type": "code",
   "execution_count": 16,
   "metadata": {},
   "outputs": [
    {
     "data": {
      "text/plain": [
       "[0.45329076104164123, 0.81901]"
      ]
     },
     "execution_count": 16,
     "metadata": {},
     "output_type": "execute_result"
    }
   ],
   "source": [
    "results"
   ]
  },
  {
   "cell_type": "markdown",
   "metadata": {},
   "source": [
    "### 3. LRP & Visualization (base code : https://github.com/ArrasL/LRP_for_LSTM)"
   ]
  },
  {
   "cell_type": "code",
   "execution_count": 17,
   "metadata": {},
   "outputs": [],
   "source": [
    "def html_heatmap (words, scores, cmap_name=\"bwr\"):\n",
    "    \"\"\"\n",
    "    Return word-level heatmap in HTML format,\n",
    "    with words being the list of words (as string),\n",
    "    scores the corresponding list of word-level relevance values,\n",
    "    and cmap_name the name of the matplotlib diverging colormap.\n",
    "    \"\"\"\n",
    "    \n",
    "    colormap  = plt.get_cmap(cmap_name)\n",
    "     \n",
    "    #assert len(words)==len(scores)\n",
    "    max_s     = max(scores)\n",
    "    min_s     = min(scores)\n",
    "    \n",
    "    output_text = \"\"\n",
    "    \n",
    "    for idx, w in enumerate(words):\n",
    "        score       = rescale_score_by_abs(scores[idx], max_s, min_s)\n",
    "        output_text = output_text + span_word(w, score, colormap) + \" \"\n",
    "    \n",
    "    return output_text + \"\\n\"\n",
    "\n",
    "def rescale_score_by_abs (score, max_score, min_score):\n",
    "    \"\"\"\n",
    "    Normalize the relevance value (=score), accordingly to the extremal relevance values (max_score and min_score), \n",
    "    for visualization with a diverging colormap.\n",
    "    i.e. rescale positive relevance to the range [0.5, 1.0], and negative relevance to the range [0.0, 0.5],\n",
    "    using the highest absolute relevance for linear interpolation.\n",
    "    \"\"\"\n",
    "    \n",
    "    # CASE 1: positive AND negative scores occur --------------------\n",
    "    if max_score>0 and min_score<0:\n",
    "    \n",
    "        if max_score >= abs(min_score):   # deepest color is positive\n",
    "            if score>=0:\n",
    "                return 0.5 + 0.5*(score/max_score)\n",
    "            else:\n",
    "                return 0.5 - 0.5*(abs(score)/max_score)\n",
    "\n",
    "        else:                             # deepest color is negative\n",
    "            if score>=0:\n",
    "                return 0.5 + 0.5*(score/abs(min_score))\n",
    "            else:\n",
    "                return 0.5 - 0.5*(score/min_score)   \n",
    "    \n",
    "    # CASE 2: ONLY positive scores occur -----------------------------       \n",
    "    elif max_score>0 and min_score>=0: \n",
    "        if max_score == min_score:\n",
    "            return 1.0\n",
    "        else:\n",
    "            return 0.5 + 0.5*(score/max_score)\n",
    "    \n",
    "    # CASE 3: ONLY negative scores occur -----------------------------\n",
    "    elif max_score<=0 and min_score<0: \n",
    "        if max_score == min_score:\n",
    "            return 0.0\n",
    "        else:\n",
    "            return 0.5 - 0.5*(score/min_score)\n",
    "          \n",
    "\n",
    "def getRGB (c_tuple):\n",
    "    return \"#%02x%02x%02x\"%(int(c_tuple[0]*255), int(c_tuple[1]*255), int(c_tuple[2]*255))\n",
    "\n",
    "     \n",
    "def span_word (word, score, colormap):\n",
    "    return \"<span style=\\\"background-color:\"+getRGB(colormap(score))+\"\\\">\"+word+\"</span>\""
   ]
  },
  {
   "cell_type": "code",
   "execution_count": 20,
   "metadata": {},
   "outputs": [],
   "source": [
    "names = [weight.name for layer in model.layers for weight in layer.weights]\n",
    "weights = model.get_weights()\n",
    "\n",
    "# suppress scientific notation\n",
    "np.set_printoptions(suppress=True)\n",
    "for name, weight in zip(names, weights):\n",
    "    if name == 'lstm_1/kernel:0':\n",
    "        kernel_0 = weight\n",
    "    if name == 'lstm_1/recurrent_kernel:0':\n",
    "        recurrent_kernel_0 = weight\n",
    "    if name == 'lstm_1/bias:0':\n",
    "        bias_0 = weight\n",
    "    elif name == 'dense_1/kernel:0':\n",
    "        output = weight"
   ]
  },
  {
   "cell_type": "code",
   "execution_count": 21,
   "metadata": {},
   "outputs": [
    {
     "name": "stdout",
     "output_type": "stream",
     "text": [
      "kernel_0 (128, 256)\n",
      "recurrent_kernel_0 (64, 256)\n",
      "bias_0 (256,)\n",
      "output (64, 2)\n"
     ]
    }
   ],
   "source": [
    "print(\"kernel_0\", kernel_0.shape)\n",
    "print(\"recurrent_kernel_0\", recurrent_kernel_0.shape)\n",
    "print(\"bias_0\", bias_0.shape)\n",
    "print(\"output\", output.shape)"
   ]
  },
  {
   "cell_type": "code",
   "execution_count": 22,
   "metadata": {},
   "outputs": [],
   "source": [
    "def get_layer_output(layer_name, data):\n",
    "    # https://keras.io/getting-started/faq/#how-can-i-obtain-the-output-of-an-intermediate-layer\n",
    "    intermediate_layer_model = keras.Model(inputs=model.input,\n",
    "                                     outputs=model.get_layer(layer_name).output)\n",
    "    return intermediate_layer_model.predict(data)  "
   ]
  },
  {
   "cell_type": "code",
   "execution_count": 23,
   "metadata": {},
   "outputs": [
    {
     "name": "stdout",
     "output_type": "stream",
     "text": [
      "embedding_1 (30, 1, 128)\n",
      "lstm_1 (30, 64)\n",
      "dropout_1 (30, 64)\n",
      "dense_1 (30, 2)\n"
     ]
    }
   ],
   "source": [
    "outputs = {}\n",
    "for layer in model.layers :\n",
    "    outputs[layer.name] = get_layer_output(layer.name, x_train[0])\n",
    "    print(layer.name, outputs[layer.name].shape)"
   ]
  },
  {
   "cell_type": "code",
   "execution_count": 27,
   "metadata": {},
   "outputs": [],
   "source": [
    "def get_relavance(target_data, target_class) :\n",
    "    e = get_layer_output('embedding_1', target_data).squeeze()\n",
    "    \n",
    "    #forword\n",
    "    T = maxlen\n",
    "    d = int(256/4)  # hidden units\n",
    "\n",
    "    idx    = np.hstack((np.arange(0,d), np.arange(2*d,4*d))).astype(int) # indices of gates i,f,o together\n",
    "    idx_i, idx_g, idx_f, idx_o = np.arange(0,d), np.arange(d,2*d), np.arange(2*d,3*d), np.arange(3*d,4*d) # indices of gates i,g,f,o separately\n",
    "\n",
    "    h  = np.zeros((T,d))\n",
    "    c  = np.zeros((T,d))\n",
    "\n",
    "    gates_xh  = np.zeros((T, 4*d))  \n",
    "    gates_hh  = np.zeros((T, 4*d)) \n",
    "    gates_pre = np.zeros((T, 4*d))  \n",
    "    gates     = np.zeros((T, 4*d))  \n",
    "\n",
    "    for t in range(T):\n",
    "        gates_xh[t]     = np.dot(e[t], kernel_0)\n",
    "        gates_hh[t]     = np.dot(h[t-1],recurrent_kernel_0)\n",
    "        gates_pre[t]    = gates_xh[t] + gates_hh[t] + bias_0\n",
    "        gates[t, idx]    = 1.0/(1.0 + np.exp(- gates_pre[t,idx]))\n",
    "        gates[t,idx_g]  = np.tanh(gates_pre[t,idx_g]) \n",
    "        c[t]            = gates[t,idx_f]*c[t-1] + gates[t,idx_i]*gates[t,idx_g]\n",
    "        h[t]            = gates[t,idx_o]*np.tanh(c[t])\n",
    "\n",
    "    score = np.dot(h[t], output)    \n",
    "    \n",
    "    #backword\n",
    "\n",
    "    C      = output.shape[1] # number of classes\n",
    "    dx     = np.zeros(e.shape)\n",
    "\n",
    "    dh          = np.zeros((T, d))\n",
    "    dc          = np.zeros((T, d))\n",
    "    dgates_pre  = np.zeros((T, 4*d))  # gates pre-activation\n",
    "    dgates      = np.zeros((T, 4*d))  # gates activation\n",
    "\n",
    "    ds                    = np.zeros((C))\n",
    "    ds[target_class] = 1.0\n",
    "    dy               = ds.copy()\n",
    "\n",
    "    #맨처음을 0으로 시작하지 않게 위한조치\n",
    "    dh[T-1]     = np.dot(dy, output.T)\n",
    "\n",
    "    for t in reversed(range(T)): \n",
    "        dgates[t,idx_o]    = dh[t] * np.tanh(c[t])  # do[t]\n",
    "        dc[t]             += dh[t] * gates[t,idx_o] * (1.-(np.tanh(c[t]))**2) # dc[t]\n",
    "        dgates[t,idx_f]    = dc[t] * c[t-1]         # df[t]\n",
    "        dc[t-1]            = dc[t] * gates[t,idx_f] # dc[t-1]\n",
    "        dgates[t,idx_i]    = dc[t] * gates[t,idx_g] # di[t]\n",
    "        dgates[t,idx_g]    = dc[t] * gates[t,idx_i] # dg[t]\n",
    "        dgates_pre[t,idx]  = dgates[t,idx] * gates[t,idx] * (1.0 - gates[t,idx]) # d ifo pre[t]\n",
    "        dgates_pre[t,idx_g]= dgates[t,idx_g] *  (1.-(gates[t,idx_g])**2) # d g pre[t]\n",
    "        dh[t-1]            = np.dot(dgates_pre[t], recurrent_kernel_0.T)\n",
    "        dx[t]           = np.dot(dgates_pre[t], kernel_0.T)\n",
    "    \n",
    "    return score, dx"
   ]
  },
  {
   "cell_type": "code",
   "execution_count": 28,
   "metadata": {},
   "outputs": [],
   "source": [
    "target_data = x_train[0]\n",
    "target_class = np.argmax(y_train[0])"
   ]
  },
  {
   "cell_type": "code",
   "execution_count": 29,
   "metadata": {},
   "outputs": [],
   "source": [
    "scores, Gx =get_relavance(target_data, target_class)"
   ]
  },
  {
   "cell_type": "code",
   "execution_count": 30,
   "metadata": {},
   "outputs": [],
   "source": [
    "R_words_SA       = (np.linalg.norm(Gx,ord=2, axis=0))**2   # compute word-level Sensitivity Analysis relevances\n",
    "R_words_GI       = np.dot(target_data, Gx)        "
   ]
  },
  {
   "cell_type": "code",
   "execution_count": 31,
   "metadata": {},
   "outputs": [],
   "source": [
    "def index_to_word(list):\n",
    "    _ = []\n",
    "    for x in list :\n",
    "        if x != 0 and x != 10000 :\n",
    "            _.append(selected_words_10000[x].split('/')[0])\n",
    "    return _"
   ]
  },
  {
   "cell_type": "code",
   "execution_count": 32,
   "metadata": {},
   "outputs": [],
   "source": [
    "words = index_to_word(target_data)"
   ]
  },
  {
   "cell_type": "code",
   "execution_count": 33,
   "metadata": {},
   "outputs": [
    {
     "name": "stdout",
     "output_type": "stream",
     "text": [
      "아 더빙 .. 진짜 짜증나 네 요 목소리\n"
     ]
    }
   ],
   "source": [
    "print(' '.join(words))"
   ]
  },
  {
   "cell_type": "code",
   "execution_count": 34,
   "metadata": {},
   "outputs": [
    {
     "name": "stdout",
     "output_type": "stream",
     "text": [
      "prediction scores:        [-1.0516348   0.96662339]\n",
      "\n",
      "SA/GI target class:       0\n",
      "\n",
      "SA relevances:\n",
      "\t\t\t 0.01665\t아\n",
      "\t\t\t 0.04708\t더빙\n",
      "\t\t\t 0.00709\t..\n",
      "\t\t\t 0.00660\t진짜\n",
      "\t\t\t 0.06546\t짜증나\n",
      "\t\t\t 0.00425\t네\n",
      "\t\t\t 0.09090\t요\n",
      "\t\t\t 0.10230\t목소리\n",
      "\n",
      "SA heatmap:\n"
     ]
    },
    {
     "data": {
      "text/html": [
       "<span style=\"background-color:#fff8f8\">아</span> <span style=\"background-color:#ffecec\">더빙</span> <span style=\"background-color:#fffcfc\">..</span> <span style=\"background-color:#fffcfc\">진짜</span> <span style=\"background-color:#ffe4e4\">짜증나</span> <span style=\"background-color:#fffefe\">네</span> <span style=\"background-color:#ffdada\">요</span> <span style=\"background-color:#ffd6d6\">목소리</span> \n"
      ],
      "text/plain": [
       "<IPython.core.display.HTML object>"
      ]
     },
     "metadata": {},
     "output_type": "display_data"
    },
    {
     "name": "stdout",
     "output_type": "stream",
     "text": [
      "\n",
      "GI relevances:\n",
      "\t\t\t  -98.08\t아\n",
      "\t\t\t -187.02\t더빙\n",
      "\t\t\t   67.81\t..\n",
      "\t\t\t   63.61\t진짜\n",
      "\t\t\t -205.26\t짜증나\n",
      "\t\t\t   45.62\t네\n",
      "\t\t\t -240.87\t요\n",
      "\t\t\t  257.71\t목소리\n",
      "\n",
      "GI heatmap:\n"
     ]
    },
    {
     "data": {
      "text/html": [
       "<span style=\"background-color:#d3d3ff\">아</span> <span style=\"background-color:#aeaeff\">더빙</span> <span style=\"background-color:#ffe2e2\">..</span> <span style=\"background-color:#ffe4e4\">진짜</span> <span style=\"background-color:#a6a6ff\">짜증나</span> <span style=\"background-color:#ffecec\">네</span> <span style=\"background-color:#9696ff\">요</span> <span style=\"background-color:#ff8e8e\">목소리</span> \n"
      ],
      "text/plain": [
       "<IPython.core.display.HTML object>"
      ]
     },
     "metadata": {},
     "output_type": "display_data"
    }
   ],
   "source": [
    "print (\"prediction scores:       \",   scores)\n",
    "print (\"\\nSA/GI target class:      \", target_class)\n",
    "print (\"\\nSA relevances:\")\n",
    "\n",
    "for idx, w in enumerate(words):\n",
    "    print (\"\\t\\t\\t\" + \"{:8.5f}\".format(R_words_SA[idx]) + \"\\t\" + w)\n",
    "    \n",
    "print (\"\\nSA heatmap:\")    \n",
    "display(HTML(html_heatmap(words, R_words_SA)))\n",
    "\n",
    "print (\"\\nGI relevances:\")\n",
    "for idx, w in enumerate(words):\n",
    "    print (\"\\t\\t\\t\" + \"{:8.2f}\".format(R_words_GI[idx]) + \"\\t\" + w)\n",
    "print (\"\\nGI heatmap:\")    \n",
    "display(HTML(html_heatmap(words, R_words_GI[:100])))"
   ]
  },
  {
   "cell_type": "code",
   "execution_count": 36,
   "metadata": {},
   "outputs": [],
   "source": [
    "def int_to_str(target_class):\n",
    "    if target_class == 0 :\n",
    "        return \"부정\"\n",
    "    else :\n",
    "        return \"긍정\""
   ]
  },
  {
   "cell_type": "code",
   "execution_count": 37,
   "metadata": {},
   "outputs": [],
   "source": [
    "predictions = model.predict(x_test)"
   ]
  },
  {
   "cell_type": "code",
   "execution_count": 38,
   "metadata": {},
   "outputs": [
    {
     "data": {
      "text/plain": [
       "array([0.00697564, 0.99308854], dtype=float32)"
      ]
     },
     "execution_count": 38,
     "metadata": {},
     "output_type": "execute_result"
    }
   ],
   "source": [
    "predictions[0]"
   ]
  },
  {
   "cell_type": "code",
   "execution_count": 39,
   "metadata": {},
   "outputs": [],
   "source": [
    "positive_list = []\n",
    "negative_list = []\n",
    "\n",
    "for i in range(len(y_test)):\n",
    "    if np.argmax(y_test[i]) == 1:\n",
    "        positive_list.append(i)\n",
    "    else :\n",
    "        negative_list.append(i)"
   ]
  },
  {
   "cell_type": "code",
   "execution_count": 42,
   "metadata": {
    "scrolled": false
   },
   "outputs": [
    {
     "name": "stdout",
     "output_type": "stream",
     "text": [
      "| 실제 레이블 :  긍정  | 예측 레이블: 긍정\n"
     ]
    },
    {
     "data": {
      "text/html": [
       "<span style=\"background-color:#ffdcdc\">뭐</span> <span style=\"background-color:#ffa6a6\">야</span> <span style=\"background-color:#d8d8ff\">이</span> <span style=\"background-color:#d3d3ff\">평점들</span> <span style=\"background-color:#ffb2b2\">은</span> <span style=\"background-color:#f0f0ff\">....</span> <span style=\"background-color:#ff8888\">나쁘진</span> <span style=\"background-color:#9696ff\">않</span> <span style=\"background-color:#d6d6ff\">지</span> <span style=\"background-color:#ffe4e4\">말</span> <span style=\"background-color:#fffefe\">ㄴ</span> <span style=\"background-color:#e6e6ff\">10점</span> <span style=\"background-color:#fff0f0\">짜</span> <span style=\"background-color:#2020ff\">리는</span> <span style=\"background-color:#fafaff\">더더욱</span> <span style=\"background-color:#fff0f0\">아니</span> <span style=\"background-color:#ffcece\">잖아</span> \n"
      ],
      "text/plain": [
       "<IPython.core.display.HTML object>"
      ]
     },
     "metadata": {},
     "output_type": "display_data"
    },
    {
     "name": "stdout",
     "output_type": "stream",
     "text": [
      "-----------------------------------------------------------\n",
      "| 실제 레이블 :  부정  | 예측 레이블: 부정\n"
     ]
    },
    {
     "data": {
      "text/html": [
       "<span style=\"background-color:#dadaff\">지루</span> <span style=\"background-color:#9a9aff\">하</span> <span style=\"background-color:#ffdcdc\">어</span> <span style=\"background-color:#ffd8d8\">지</span> <span style=\"background-color:#b0b0ff\">는</span> <span style=\"background-color:#fff2f2\">않</span> <span style=\"background-color:#9090ff\">은</span> <span style=\"background-color:#ff8686\">데</span> <span style=\"background-color:#ffd0d0\">완전</span> <span style=\"background-color:#d3d3ff\">막장</span> <span style=\"background-color:#f8f8ff\">ㅁ</span> <span style=\"background-color:#ffe8e8\">...</span> <span style=\"background-color:#fefeff\">돈주</span> <span style=\"background-color:#ff1818\">고</span> <span style=\"background-color:#f8f8ff\">보</span> <span style=\"background-color:#f8f8ff\">기</span> <span style=\"background-color:#c3c3ff\">에는</span> <span style=\"background-color:#ffbebe\">....</span> \n"
      ],
      "text/plain": [
       "<IPython.core.display.HTML object>"
      ]
     },
     "metadata": {},
     "output_type": "display_data"
    },
    {
     "name": "stdout",
     "output_type": "stream",
     "text": [
      "-----------------------------------------------------------\n",
      "| 실제 레이블 :  긍정  | 예측 레이블: 긍정\n"
     ]
    },
    {
     "data": {
      "text/html": [
       "<span style=\"background-color:#ffdcdc\">3D</span> <span style=\"background-color:#ff9e9e\">만</span> <span style=\"background-color:#d6d6ff\">아니</span> <span style=\"background-color:#e2e2ff\">었어도</span> <span style=\"background-color:#ffb3b3\">별</span> <span style=\"background-color:#f8f8ff\">다섯</span> <span style=\"background-color:#ff7878\">개</span> <span style=\"background-color:#9696ff\">주</span> <span style=\"background-color:#e0e0ff\">었을텐데</span> <span style=\"background-color:#ffe8e8\">..</span> <span style=\"background-color:#fff8f8\">왜</span> <span style=\"background-color:#d8d8ff\">3D</span> <span style=\"background-color:#fff0f0\">로</span> <span style=\"background-color:#1818ff\">나오</span> <span style=\"background-color:#f3f3ff\">아</span> <span style=\"background-color:#fff2f2\">저</span> <span style=\"background-color:#ffcccc\">의</span> <span style=\"background-color:#c2c2ff\">를</span> <span style=\"background-color:#eeeeff\">불편</span> <span style=\"background-color:#ffd3d3\">하</span> <span style=\"background-color:#fffcfc\">게</span> <span style=\"background-color:#ffd0d0\">하</span> <span style=\"background-color:#ffcccc\">죠</span> <span style=\"background-color:#ffecec\">??</span> \n"
      ],
      "text/plain": [
       "<IPython.core.display.HTML object>"
      ]
     },
     "metadata": {},
     "output_type": "display_data"
    },
    {
     "name": "stdout",
     "output_type": "stream",
     "text": [
      "-----------------------------------------------------------\n",
      "| 실제 레이블 :  부정  | 예측 레이블: 부정\n"
     ]
    },
    {
     "data": {
      "text/html": [
       "<span style=\"background-color:#ffeeee\">진정한</span> <span style=\"background-color:#8080ff\">쓰레기</span> \n"
      ],
      "text/plain": [
       "<IPython.core.display.HTML object>"
      ]
     },
     "metadata": {},
     "output_type": "display_data"
    },
    {
     "name": "stdout",
     "output_type": "stream",
     "text": [
      "-----------------------------------------------------------\n",
      "| 실제 레이블 :  긍정  | 예측 레이블: 긍정\n"
     ]
    },
    {
     "data": {
      "text/html": [
       "<span style=\"background-color:#ffdede\">마치</span> <span style=\"background-color:#ff8e8e\">에서</span> <span style=\"background-color:#d6d6ff\">튀</span> <span style=\"background-color:#dadaff\">어</span> <span style=\"background-color:#ffb3b3\">나</span> <span style=\"background-color:#f6f6ff\">아</span> <span style=\"background-color:#ff7c7c\">오</span> <span style=\"background-color:#9393ff\">ㄴ</span> <span style=\"background-color:#e3e3ff\">듯</span> <span style=\"background-color:#ffe2e2\">하</span> <span style=\"background-color:#fffefe\">ㄴ</span> <span style=\"background-color:#d8d8ff\">창의력</span> <span style=\"background-color:#fff8f8\">없</span> <span style=\"background-color:#1c1cff\">는</span> <span style=\"background-color:#fffafa\">가</span> <span style=\"background-color:#fffcfc\">,</span> <span style=\"background-color:#ffc6c6\">고개</span> <span style=\"background-color:#c6c6ff\">를</span> <span style=\"background-color:#e6e6ff\">젖</span> <span style=\"background-color:#ffcccc\">게</span> <span style=\"background-color:#fffcfc\">하</span> <span style=\"background-color:#ffd2d2\">ㄴ다</span> \n"
      ],
      "text/plain": [
       "<IPython.core.display.HTML object>"
      ]
     },
     "metadata": {},
     "output_type": "display_data"
    },
    {
     "name": "stdout",
     "output_type": "stream",
     "text": [
      "-----------------------------------------------------------\n",
      "| 실제 레이블 :  부정  | 예측 레이블: 부정\n"
     ]
    },
    {
     "data": {
      "text/html": [
       "<span style=\"background-color:#e2e2ff\">는</span> <span style=\"background-color:#9e9eff\">중국영화</span> <span style=\"background-color:#ffd2d2\">유치</span> <span style=\"background-color:#ffdcdc\">하고</span> <span style=\"background-color:#aaaaff\">내용</span> <span style=\"background-color:#fefeff\">없</span> <span style=\"background-color:#7979ff\">음</span> <span style=\"background-color:#ff8888\">다</span> <span style=\"background-color:#ffdede\">끝나</span> <span style=\"background-color:#f0f0ff\">ㅁ</span> <span style=\"background-color:#f0f0ff\">말도안되</span> <span style=\"background-color:#ffd8d8\">는</span> <span style=\"background-color:#f0f0ff\">무기</span> <span style=\"background-color:#ff2121\">에</span> <span style=\"background-color:#fff4f4\">아</span> <span style=\"background-color:#e6e6ff\">그립</span> <span style=\"background-color:#ceceff\">다</span> <span style=\"background-color:#ffc2c2\">같</span> <span style=\"background-color:#fff2f2\">은</span> <span style=\"background-color:#ceceff\">영화</span> <span style=\"background-color:#fcfcff\">가</span> <span style=\"background-color:#c0c0ff\">이</span> <span style=\"background-color:#c0c0ff\">건</span> <span style=\"background-color:#e3e3ff\">다</span> \n"
      ],
      "text/plain": [
       "<IPython.core.display.HTML object>"
      ]
     },
     "metadata": {},
     "output_type": "display_data"
    },
    {
     "name": "stdout",
     "output_type": "stream",
     "text": [
      "-----------------------------------------------------------\n",
      "| 실제 레이블 :  부정  | 예측 레이블: 부정\n"
     ]
    },
    {
     "data": {
      "text/html": [
       "<span style=\"background-color:#d3d3ff\">의</span> <span style=\"background-color:#babaff\">한계</span> <span style=\"background-color:#ffe2e2\">그렇</span> <span style=\"background-color:#ffe0e0\">게</span> <span style=\"background-color:#aeaeff\">아버지</span> <span style=\"background-color:#ffecec\">가</span> <span style=\"background-color:#9c9cff\">와</span> \n"
      ],
      "text/plain": [
       "<IPython.core.display.HTML object>"
      ]
     },
     "metadata": {},
     "output_type": "display_data"
    },
    {
     "name": "stdout",
     "output_type": "stream",
     "text": [
      "-----------------------------------------------------------\n",
      "| 실제 레이블 :  부정  | 예측 레이블: 부정\n"
     ]
    },
    {
     "data": {
      "text/html": [
       "<span style=\"background-color:#ececff\">감독</span> <span style=\"background-color:#a2a2ff\">은</span> <span style=\"background-color:#ffdede\">\"\"\"\"</span> <span style=\"background-color:#ffecec\">내</span> <span style=\"background-color:#b8b8ff\">가</span> <span style=\"background-color:#fefeff\">영화</span> <span style=\"background-color:#b2b2ff\">경력</span> <span style=\"background-color:#ff9c9c\">ㄴ데</span> <span style=\"background-color:#ffcccc\">내</span> <span style=\"background-color:#d3d3ff\">어</span> <span style=\"background-color:#fff6f6\">영화</span> <span style=\"background-color:#ffe6e6\">를</span> <span style=\"background-color:#fafaff\">평론</span> <span style=\"background-color:#ff0808\">하</span> <span style=\"background-color:#fffafa\">어</span> <span style=\"background-color:#e0e0ff\">?\"\"\"\"</span> <span style=\"background-color:#d2d2ff\">같</span> <span style=\"background-color:#ffaeae\">은</span> <span style=\"background-color:#ffe6e6\">마인드</span> <span style=\"background-color:#c8c8ff\">에</span> <span style=\"background-color:#fcfcff\">빠지</span> <span style=\"background-color:#d2d2ff\">어</span> <span style=\"background-color:#ceceff\">있</span> <span style=\"background-color:#f0f0ff\">겠지</span> <span style=\"background-color:#ff8a8a\">?\"\"\"</span> \n"
      ],
      "text/plain": [
       "<IPython.core.display.HTML object>"
      ]
     },
     "metadata": {},
     "output_type": "display_data"
    },
    {
     "name": "stdout",
     "output_type": "stream",
     "text": [
      "-----------------------------------------------------------\n",
      "| 실제 레이블 :  부정  | 예측 레이블: 부정\n"
     ]
    },
    {
     "data": {
      "text/html": [
       "<span style=\"background-color:#d8d8ff\">발연기</span> <span style=\"background-color:#a8a8ff\">도저히</span> <span style=\"background-color:#ffd8d8\">못보겠다</span> <span style=\"background-color:#ffe0e0\">진짜</span> <span style=\"background-color:#acacff\">이렇</span> <span style=\"background-color:#fff6f6\">게</span> <span style=\"background-color:#8080ff\">연기</span> <span style=\"background-color:#ff9393\">를</span> <span style=\"background-color:#ffe2e2\">곤</span> <span style=\"background-color:#e8e8ff\">상상</span> <span style=\"background-color:#f8f8ff\">도</span> <span style=\"background-color:#ffdcdc\">못하</span> <span style=\"background-color:#eeeeff\">었네</span> \n"
      ],
      "text/plain": [
       "<IPython.core.display.HTML object>"
      ]
     },
     "metadata": {},
     "output_type": "display_data"
    },
    {
     "name": "stdout",
     "output_type": "stream",
     "text": [
      "-----------------------------------------------------------\n",
      "| 실제 레이블 :  부정  | 예측 레이블: 부정\n"
     ]
    },
    {
     "data": {
      "text/html": [
       "<span style=\"background-color:#d6d6ff\">별</span> <span style=\"background-color:#a6a6ff\">....</span> <span style=\"background-color:#ffd2d2\">에서</span> <span style=\"background-color:#ffeaea\">방송</span> <span style=\"background-color:#aaaaff\">라</span> <span style=\"background-color:#fff6f6\">?</span> <span style=\"background-color:#6e6eff\">ㅋㅋㅋㅋㅋ</span> <span style=\"background-color:#ff9090\">ㅋㅋㅋㅋㅋ</span> <span style=\"background-color:#fff6f6\">ㅋ</span> \n"
      ],
      "text/plain": [
       "<IPython.core.display.HTML object>"
      ]
     },
     "metadata": {},
     "output_type": "display_data"
    },
    {
     "name": "stdout",
     "output_type": "stream",
     "text": [
      "-----------------------------------------------------------\n",
      "| 실제 레이블 :  긍정  | 예측 레이블: 긍정\n"
     ]
    },
    {
     "data": {
      "text/html": [
       "<span style=\"background-color:#ffd2d2\">나름</span> <span style=\"background-color:#ffc2c2\">는</span> <span style=\"background-color:#e0e0ff\">하지만</span> <span style=\"background-color:#e2e2ff\">어쩌</span> <span style=\"background-color:#ffb3b3\">ㄹ</span> <span style=\"background-color:#e8e8ff\">수</span> <span style=\"background-color:#ff9292\">없이</span> <span style=\"background-color:#9393ff\">받</span> <span style=\"background-color:#d0d0ff\">을</span> <span style=\"background-color:#ffd2d2\">수</span> <span style=\"background-color:#fff8f8\">밖에</span> <span style=\"background-color:#eaeaff\">없</span> <span style=\"background-color:#ffe4e4\">는</span> \n"
      ],
      "text/plain": [
       "<IPython.core.display.HTML object>"
      ]
     },
     "metadata": {},
     "output_type": "display_data"
    },
    {
     "name": "stdout",
     "output_type": "stream",
     "text": [
      "-----------------------------------------------------------\n",
      "| 실제 레이블 :  부정  | 예측 레이블: 부정\n"
     ]
    },
    {
     "data": {
      "text/html": [
       "<span style=\"background-color:#e6e6ff\">일본</span> <span style=\"background-color:#7979ff\">받</span> <span style=\"background-color:#ffd8d8\">은</span> <span style=\"background-color:#ffe6e6\">의</span> <span style=\"background-color:#b3b3ff\">긴박</span> <span style=\"background-color:#fefeff\">하</span> <span style=\"background-color:#8888ff\">ㄴ</span> <span style=\"background-color:#ffa0a0\">과정</span> <span style=\"background-color:#ffd6d6\">을</span> <span style=\"background-color:#e3e3ff\">루즈</span> <span style=\"background-color:#fffafa\">하고</span> <span style=\"background-color:#ffd8d8\">지저분</span> <span style=\"background-color:#fffefe\">하</span> <span style=\"background-color:#ff1616\">게</span> <span style=\"background-color:#fefeff\">늘</span> <span style=\"background-color:#fcfcff\">어</span> <span style=\"background-color:#c2c2ff\">놓</span> <span style=\"background-color:#ffb0b0\">아다</span> <span style=\"background-color:#ffeaea\">.</span> \n"
      ],
      "text/plain": [
       "<IPython.core.display.HTML object>"
      ]
     },
     "metadata": {},
     "output_type": "display_data"
    },
    {
     "name": "stdout",
     "output_type": "stream",
     "text": [
      "-----------------------------------------------------------\n",
      "| 실제 레이블 :  부정  | 예측 레이블: 부정\n"
     ]
    },
    {
     "data": {
      "text/html": [
       "<span style=\"background-color:#d6d6ff\">이건뭐</span> <span style=\"background-color:#8e8eff\">80</span> <span style=\"background-color:#ffd0d0\">~</span> <span style=\"background-color:#ffdede\">90년대</span> <span style=\"background-color:#a0a0ff\">어린이</span> <span style=\"background-color:#fffcfc\">영화좀</span> <span style=\"background-color:#6e6eff\">보</span> <span style=\"background-color:#ff6e6e\">고</span> <span style=\"background-color:#ffeeee\">본받</span> <span style=\"background-color:#e0e0ff\">아</span> <span style=\"background-color:#fff4f4\">!</span> \n"
      ],
      "text/plain": [
       "<IPython.core.display.HTML object>"
      ]
     },
     "metadata": {},
     "output_type": "display_data"
    },
    {
     "name": "stdout",
     "output_type": "stream",
     "text": [
      "-----------------------------------------------------------\n",
      "| 실제 레이블 :  부정  | 예측 레이블: 부정\n"
     ]
    },
    {
     "data": {
      "text/html": [
       "<span style=\"background-color:#d8d8ff\">도</span> <span style=\"background-color:#9a9aff\">는</span> <span style=\"background-color:#ffd6d6\">영화</span> <span style=\"background-color:#ffe0e0\">배우</span> <span style=\"background-color:#a8a8ff\">나</span> <span style=\"background-color:#fffafa\">감독</span> <span style=\"background-color:#7070ff\">라는</span> <span style=\"background-color:#ff8888\">사람</span> <span style=\"background-color:#ffeeee\">이나</span> <span style=\"background-color:#e3e3ff\">영화판</span> <span style=\"background-color:#fffefe\">에서</span> <span style=\"background-color:#ffd2d2\">안봐</span> <span style=\"background-color:#fefeff\">면</span> <span style=\"background-color:#ff1111\">하</span> <span style=\"background-color:#fffafa\">ㄴ다</span> <span style=\"background-color:#f0f0ff\">그리고</span> <span style=\"background-color:#cacaff\">너무</span> <span style=\"background-color:#ffd0d0\">트</span> <span style=\"background-color:#ffe6e6\">어</span> <span style=\"background-color:#d0d0ff\">나</span> <span style=\"background-color:#fcfcff\">ㄴ다</span> \n"
      ],
      "text/plain": [
       "<IPython.core.display.HTML object>"
      ]
     },
     "metadata": {},
     "output_type": "display_data"
    },
    {
     "name": "stdout",
     "output_type": "stream",
     "text": [
      "-----------------------------------------------------------\n",
      "| 실제 레이블 :  긍정  | 예측 레이블: 긍정\n"
     ]
    },
    {
     "data": {
      "text/html": [
       "<span style=\"background-color:#ffd8d8\">정말</span> <span style=\"background-color:#ffacac\">,</span> <span style=\"background-color:#dedeff\">진짜</span> <span style=\"background-color:#e6e6ff\">,</span> <span style=\"background-color:#ffb2b2\">표현</span> <span style=\"background-color:#f3f3ff\">하</span> <span style=\"background-color:#ff7c7c\">ㄹ</span> <span style=\"background-color:#8e8eff\">수</span> <span style=\"background-color:#dadaff\">없</span> <span style=\"background-color:#ffe0e0\">는</span> <span style=\"background-color:#fffefe\">영화</span> <span style=\"background-color:#dedeff\">...</span> \n"
      ],
      "text/plain": [
       "<IPython.core.display.HTML object>"
      ]
     },
     "metadata": {},
     "output_type": "display_data"
    },
    {
     "name": "stdout",
     "output_type": "stream",
     "text": [
      "-----------------------------------------------------------\n",
      "| 실제 레이블 :  부정  | 예측 레이블: 부정\n"
     ]
    },
    {
     "data": {
      "text/html": [
       "<span style=\"background-color:#e2e2ff\">엉성한</span> <span style=\"background-color:#9a9aff\">액션</span> <span style=\"background-color:#ffd2d2\">에</span> <span style=\"background-color:#ffe6e6\">,</span> <span style=\"background-color:#b2b2ff\">시나리오</span> <span style=\"background-color:#fffefe\">는</span> <span style=\"background-color:#7979ff\">지</span> <span style=\"background-color:#ff6e6e\">..</span> <span style=\"background-color:#ffc6c6\">막판</span> <span style=\"background-color:#e6e6ff\">에</span> <span style=\"background-color:#ececff\">??</span> \n"
      ],
      "text/plain": [
       "<IPython.core.display.HTML object>"
      ]
     },
     "metadata": {},
     "output_type": "display_data"
    },
    {
     "name": "stdout",
     "output_type": "stream",
     "text": [
      "-----------------------------------------------------------\n",
      "| 실제 레이블 :  부정  | 예측 레이블: 부정\n"
     ]
    },
    {
     "data": {
      "text/html": [
       "<span style=\"background-color:#d2d2ff\">,</span> <span style=\"background-color:#8c8cff\">..</span> <span style=\"background-color:#ffd6d6\">은</span> <span style=\"background-color:#ffdcdc\">못나</span> <span style=\"background-color:#aaaaff\">아</span> <span style=\"background-color:#fff8f8\">오</span> <span style=\"background-color:#6969ff\">ㄹ</span> <span style=\"background-color:#ff9a9a\">것</span> <span style=\"background-color:#fcfcff\">같</span> <span style=\"background-color:#eaeaff\">다</span> <span style=\"background-color:#fff6f6\">.</span> \n"
      ],
      "text/plain": [
       "<IPython.core.display.HTML object>"
      ]
     },
     "metadata": {},
     "output_type": "display_data"
    },
    {
     "name": "stdout",
     "output_type": "stream",
     "text": [
      "-----------------------------------------------------------\n",
      "| 실제 레이블 :  부정  | 예측 레이블: 부정\n"
     ]
    },
    {
     "data": {
      "text/html": [
       "<span style=\"background-color:#e3e3ff\">....</span> <span style=\"background-color:#a0a0ff\">시간</span> <span style=\"background-color:#ffd8d8\">아깝</span> <span style=\"background-color:#ffe8e8\">고</span> \n"
      ],
      "text/plain": [
       "<IPython.core.display.HTML object>"
      ]
     },
     "metadata": {},
     "output_type": "display_data"
    },
    {
     "name": "stdout",
     "output_type": "stream",
     "text": [
      "-----------------------------------------------------------\n",
      "| 실제 레이블 :  부정  | 예측 레이블: 부정\n"
     ]
    },
    {
     "data": {
      "text/html": [
       "<span style=\"background-color:#d8d8ff\">는</span> <span style=\"background-color:#a0a0ff\">우리</span> <span style=\"background-color:#ffd0d0\">의</span> <span style=\"background-color:#ffe4e4\">ㄹ</span> <span style=\"background-color:#acacff\">뿐</span> <span style=\"background-color:#fffcfc\">다</span> <span style=\"background-color:#6868ff\">.</span> \n"
      ],
      "text/plain": [
       "<IPython.core.display.HTML object>"
      ]
     },
     "metadata": {},
     "output_type": "display_data"
    },
    {
     "name": "stdout",
     "output_type": "stream",
     "text": [
      "-----------------------------------------------------------\n",
      "| 실제 레이블 :  부정  | 예측 레이블: 부정\n"
     ]
    },
    {
     "data": {
      "text/html": [
       "<span style=\"background-color:#d8d8ff\">ㅋㅋㅋ</span> <span style=\"background-color:#babaff\">난생처음</span> <span style=\"background-color:#ffdede\">로그인</span> <span style=\"background-color:#ffdcdc\">하고</span> <span style=\"background-color:#acacff\">..</span> <span style=\"background-color:#ffeaea\">..</span> <span style=\"background-color:#a6a6ff\">알바들</span> <span style=\"background-color:#ffa6a6\">속</span> <span style=\"background-color:#ffc3c3\">지</span> <span style=\"background-color:#e0e0ff\">말</span> <span style=\"background-color:#ececff\">세</span> <span style=\"background-color:#fff8f8\">요</span> <span style=\"background-color:#e3e3ff\">이런</span> <span style=\"background-color:#ff2828\">ㄱ</span> <span style=\"background-color:#fffafa\">은</span> <span style=\"background-color:#e0e0ff\">시간낭비</span> <span style=\"background-color:#ccccff\">가</span> <span style=\"background-color:#ffacac\">.</span> <span style=\"background-color:#ffeaea\">마이너스</span> \n"
      ],
      "text/plain": [
       "<IPython.core.display.HTML object>"
      ]
     },
     "metadata": {},
     "output_type": "display_data"
    },
    {
     "name": "stdout",
     "output_type": "stream",
     "text": [
      "-----------------------------------------------------------\n",
      "| 실제 레이블 :  부정  | 예측 레이블: 부정\n"
     ]
    },
    {
     "data": {
      "text/html": [
       "<span style=\"background-color:#d8d8ff\">는</span> <span style=\"background-color:#a6a6ff\">어</span> <span style=\"background-color:#ffcaca\">고</span> <span style=\"background-color:#ffe8e8\">이영화</span> <span style=\"background-color:#aaaaff\">는</span> <span style=\"background-color:#fffefe\">이영화</span> <span style=\"background-color:#6464ff\">.</span> \n"
      ],
      "text/plain": [
       "<IPython.core.display.HTML object>"
      ]
     },
     "metadata": {},
     "output_type": "display_data"
    },
    {
     "name": "stdout",
     "output_type": "stream",
     "text": [
      "-----------------------------------------------------------\n",
      "| 실제 레이블 :  부정  | 예측 레이블: 부정\n"
     ]
    },
    {
     "data": {
      "text/html": [
       "<span style=\"background-color:#e0e0ff\">EBS</span> <span style=\"background-color:#9696ff\">하</span> <span style=\"background-color:#ffd0d0\">어서</span> <span style=\"background-color:#ffe2e2\">보</span> <span style=\"background-color:#b0b0ff\">아다</span> <span style=\"background-color:#fff6f6\">.</span> <span style=\"background-color:#7070ff\">궁금</span> <span style=\"background-color:#ff9a9a\">하</span> <span style=\"background-color:#ffe0e0\">었었는데</span> <span style=\"background-color:#f6f6ff\">보</span> <span style=\"background-color:#f6f6ff\">아</span> <span style=\"background-color:#ffd3d3\">모르</span> <span style=\"background-color:#ececff\">겠다</span> <span style=\"background-color:#ff2121\">...</span> \n"
      ],
      "text/plain": [
       "<IPython.core.display.HTML object>"
      ]
     },
     "metadata": {},
     "output_type": "display_data"
    },
    {
     "name": "stdout",
     "output_type": "stream",
     "text": [
      "-----------------------------------------------------------\n",
      "| 실제 레이블 :  부정  | 예측 레이블: 부정\n"
     ]
    },
    {
     "data": {
      "text/html": [
       "<span style=\"background-color:#dcdcff\">뭐</span> <span style=\"background-color:#9393ff\">야</span> <span style=\"background-color:#ffdcdc\">??</span> <span style=\"background-color:#ffdada\">라</span> <span style=\"background-color:#aeaeff\">는</span> <span style=\"background-color:#fff2f2\">말</span> <span style=\"background-color:#8383ff\">ㄹ</span> <span style=\"background-color:#ff8383\">밖</span> <span style=\"background-color:#ffc2c2\">에는</span> <span style=\"background-color:#e0e0ff\">...</span> \n"
      ],
      "text/plain": [
       "<IPython.core.display.HTML object>"
      ]
     },
     "metadata": {},
     "output_type": "display_data"
    },
    {
     "name": "stdout",
     "output_type": "stream",
     "text": [
      "-----------------------------------------------------------\n",
      "| 실제 레이블 :  부정  | 예측 레이블: 부정\n"
     ]
    },
    {
     "data": {
      "text/html": [
       "<span style=\"background-color:#e0e0ff\">이</span> <span style=\"background-color:#9e9eff\">게</span> <span style=\"background-color:#ffdcdc\">영화</span> <span style=\"background-color:#ffdcdc\">야</span> <span style=\"background-color:#b8b8ff\">?</span> \n"
      ],
      "text/plain": [
       "<IPython.core.display.HTML object>"
      ]
     },
     "metadata": {},
     "output_type": "display_data"
    },
    {
     "name": "stdout",
     "output_type": "stream",
     "text": [
      "-----------------------------------------------------------\n",
      "| 실제 레이블 :  부정  | 예측 레이블: 부정\n"
     ]
    },
    {
     "data": {
      "text/html": [
       "<span style=\"background-color:#dadaff\">롭</span> <span style=\"background-color:#a3a3ff\">의</span> <span style=\"background-color:#ffd3d3\">몰락</span> <span style=\"background-color:#ffd8d8\">의</span> <span style=\"background-color:#b8b8ff\">OO</span> <span style=\"background-color:#fff0f0\">점</span> \n"
      ],
      "text/plain": [
       "<IPython.core.display.HTML object>"
      ]
     },
     "metadata": {},
     "output_type": "display_data"
    },
    {
     "name": "stdout",
     "output_type": "stream",
     "text": [
      "-----------------------------------------------------------\n",
      "| 실제 레이블 :  긍정  | 예측 레이블: 긍정\n"
     ]
    },
    {
     "data": {
      "text/html": [
       "<span style=\"background-color:#ffd6d6\">의</span> \n"
      ],
      "text/plain": [
       "<IPython.core.display.HTML object>"
      ]
     },
     "metadata": {},
     "output_type": "display_data"
    },
    {
     "name": "stdout",
     "output_type": "stream",
     "text": [
      "-----------------------------------------------------------\n",
      "| 실제 레이블 :  긍정  | 예측 레이블: 긍정\n"
     ]
    },
    {
     "data": {
      "text/html": [
       "<span style=\"background-color:#ffe2e2\">고</span> <span style=\"background-color:#ff9393\">코메디</span> <span style=\"background-color:#dcdcff\">멜로</span> <span style=\"background-color:#dedeff\">를</span> <span style=\"background-color:#ffbcbc\">하</span> <span style=\"background-color:#fafaff\">지만</span> <span style=\"background-color:#ff8888\">이영화</span> <span style=\"background-color:#8888ff\">는</span> <span style=\"background-color:#c6c6ff\">10분</span> <span style=\"background-color:#ffecec\">안</span> <span style=\"background-color:#fff2f2\">에</span> <span style=\"background-color:#dedeff\">모든것</span> <span style=\"background-color:#fff6f6\">을</span> <span style=\"background-color:#1c1cff\">소화</span> <span style=\"background-color:#f8f8ff\">하</span> <span style=\"background-color:#fff6f6\">려는</span> <span style=\"background-color:#ffd0d0\">욕심</span> <span style=\"background-color:#bebeff\">코믹</span> <span style=\"background-color:#f2f2ff\">하</span> <span style=\"background-color:#ffc3c3\">어다</span> <span style=\"background-color:#fffcfc\">기</span> <span style=\"background-color:#ffd2d2\">고</span> \n"
      ],
      "text/plain": [
       "<IPython.core.display.HTML object>"
      ]
     },
     "metadata": {},
     "output_type": "display_data"
    },
    {
     "name": "stdout",
     "output_type": "stream",
     "text": [
      "-----------------------------------------------------------\n",
      "| 실제 레이블 :  부정  | 예측 레이블: 부정\n"
     ]
    },
    {
     "data": {
      "text/html": [
       "<span style=\"background-color:#d6d6ff\">면</span> <span style=\"background-color:#9a9aff\">나</span> <span style=\"background-color:#ffcece\">가</span> <span style=\"background-color:#ffdcdc\">이것보단</span> <span style=\"background-color:#b2b2ff\">ㅋ</span> \n"
      ],
      "text/plain": [
       "<IPython.core.display.HTML object>"
      ]
     },
     "metadata": {},
     "output_type": "display_data"
    },
    {
     "name": "stdout",
     "output_type": "stream",
     "text": [
      "-----------------------------------------------------------\n",
      "| 실제 레이블 :  부정  | 예측 레이블: 부정\n"
     ]
    },
    {
     "data": {
      "text/html": [
       "<span style=\"background-color:#e2e2ff\">와</span> <span style=\"background-color:#9a9aff\">의</span> <span style=\"background-color:#ffeeee\">시원</span> <span style=\"background-color:#ffe0e0\">하</span> <span style=\"background-color:#b3b3ff\">ㄴ</span> <span style=\"background-color:#fff6f6\">액션</span> <span style=\"background-color:#b0b0ff\">은</span> <span style=\"background-color:#ffa8a8\">나</span> <span style=\"background-color:#ffa2a2\">ㅁㅊ</span> \n"
      ],
      "text/plain": [
       "<IPython.core.display.HTML object>"
      ]
     },
     "metadata": {},
     "output_type": "display_data"
    },
    {
     "name": "stdout",
     "output_type": "stream",
     "text": [
      "-----------------------------------------------------------\n",
      "| 실제 레이블 :  부정  | 예측 레이블: 부정\n"
     ]
    },
    {
     "data": {
      "text/html": [
       "<span style=\"background-color:#dadaff\">내</span> <span style=\"background-color:#a2a2ff\">차</span> <span style=\"background-color:#ffcccc\">ㅁ</span> <span style=\"background-color:#ffe8e8\">,</span> <span style=\"background-color:#a8a8ff\">이딴</span> <span style=\"background-color:#fffefe\">거</span> <span style=\"background-color:#6161ff\">ㄹ</span> <span style=\"background-color:#ff7c7c\">드라마</span> <span style=\"background-color:#fffefe\">라</span> <span style=\"background-color:#ececff\">고</span> <span style=\"background-color:#fafaff\">....</span> <span style=\"background-color:#ffc0c0\">그냥</span> <span style=\"background-color:#eeeeff\">이</span> <span style=\"background-color:#ff0c0c\">건</span> <span style=\"background-color:#ffeaea\">에서</span> <span style=\"background-color:#e2e2ff\">로</span> <span style=\"background-color:#d3d3ff\">올리</span> <span style=\"background-color:#ffd0d0\">어야</span> <span style=\"background-color:#fff6f6\">하</span> <span style=\"background-color:#e6e6ff\">ㄴ다</span> <span style=\"background-color:#fff6f6\">.</span> \n"
      ],
      "text/plain": [
       "<IPython.core.display.HTML object>"
      ]
     },
     "metadata": {},
     "output_type": "display_data"
    },
    {
     "name": "stdout",
     "output_type": "stream",
     "text": [
      "-----------------------------------------------------------\n",
      "| 실제 레이블 :  부정  | 예측 레이블: 부정\n"
     ]
    },
    {
     "data": {
      "text/html": [
       "<span style=\"background-color:#dedeff\">기</span> <span style=\"background-color:#9292ff\">보다</span> <span style=\"background-color:#ffd6d6\">영화배우</span> <span style=\"background-color:#ffecec\">,</span> <span style=\"background-color:#a6a6ff\">감독들</span> <span style=\"background-color:#f3f3ff\">들</span> <span style=\"background-color:#7474ff\">에게</span> <span style=\"background-color:#ff7070\">더</span> <span style=\"background-color:#ffd6d6\">관심</span> <span style=\"background-color:#eaeaff\">갈</span> <span style=\"background-color:#f3f3ff\">ㄴ다</span> \n"
      ],
      "text/plain": [
       "<IPython.core.display.HTML object>"
      ]
     },
     "metadata": {},
     "output_type": "display_data"
    },
    {
     "name": "stdout",
     "output_type": "stream",
     "text": [
      "-----------------------------------------------------------\n",
      "| 실제 레이블 :  부정  | 예측 레이블: 부정\n"
     ]
    },
    {
     "data": {
      "text/html": [
       "<span style=\"background-color:#e2e2ff\">...</span> <span style=\"background-color:#9c9cff\">으</span> <span style=\"background-color:#ffd6d6\">.</span> <span style=\"background-color:#ffe8e8\">..</span> <span style=\"background-color:#b2b2ff\">뭐</span> <span style=\"background-color:#fcfcff\">의</span> <span style=\"background-color:#7e7eff\">도는</span> <span style=\"background-color:#ff7070\">좋</span> <span style=\"background-color:#ffc8c8\">아</span> <span style=\"background-color:#e2e2ff\">보</span> <span style=\"background-color:#ececff\">아자</span> <span style=\"background-color:#ffdcdc\">전달</span> <span style=\"background-color:#fffefe\">;</span> \n"
      ],
      "text/plain": [
       "<IPython.core.display.HTML object>"
      ]
     },
     "metadata": {},
     "output_type": "display_data"
    },
    {
     "name": "stdout",
     "output_type": "stream",
     "text": [
      "-----------------------------------------------------------\n",
      "| 실제 레이블 :  부정  | 예측 레이블: 부정\n"
     ]
    },
    {
     "data": {
      "text/html": [
       "<span style=\"background-color:#dadaff\">아빠</span> <span style=\"background-color:#9393ff\">가</span> <span style=\"background-color:#ffd3d3\">낚여서</span> <span style=\"background-color:#ffd8d8\">보</span> <span style=\"background-color:#aeaeff\">ㄴ</span> <span style=\"background-color:#fff6f6\">적</span> <span style=\"background-color:#7e7eff\">있다</span> <span style=\"background-color:#ff9a9a\">나</span> <span style=\"background-color:#ffe2e2\">기</span> <span style=\"background-color:#eeeeff\">영화</span> \n"
      ],
      "text/plain": [
       "<IPython.core.display.HTML object>"
      ]
     },
     "metadata": {},
     "output_type": "display_data"
    },
    {
     "name": "stdout",
     "output_type": "stream",
     "text": [
      "-----------------------------------------------------------\n",
      "| 실제 레이블 :  부정  | 예측 레이블: 부정\n"
     ]
    },
    {
     "data": {
      "text/html": [
       "<span style=\"background-color:#d3d3ff\">\"\"\"\"\"</span> <span style=\"background-color:#b8b8ff\">\"\"</span> <span style=\"background-color:#ffdcdc\">결혼</span> <span style=\"background-color:#ffd2d2\">은</span> <span style=\"background-color:#b0b0ff\">현실</span> <span style=\"background-color:#ffe8e8\">에요</span> <span style=\"background-color:#b0b0ff\">벗기</span> <span style=\"background-color:#ffaaaa\">어</span> <span style=\"background-color:#ffcece\">놓</span> <span style=\"background-color:#dcdcff\">고</span> <span style=\"background-color:#ececff\">이</span> <span style=\"background-color:#fff0f0\">정도</span> <span style=\"background-color:#e6e6ff\">얘</span> <span style=\"background-color:#ff2e2e\">기</span> <span style=\"background-color:#fafaff\">밖</span> <span style=\"background-color:#e3e3ff\">에</span> <span style=\"background-color:#c6c6ff\">못</span> <span style=\"background-color:#ffacac\">하</span> <span style=\"background-color:#ffe0e0\">냐</span> <span style=\"background-color:#d3d3ff\">.\"\"\"</span> \n"
      ],
      "text/plain": [
       "<IPython.core.display.HTML object>"
      ]
     },
     "metadata": {},
     "output_type": "display_data"
    },
    {
     "name": "stdout",
     "output_type": "stream",
     "text": [
      "-----------------------------------------------------------\n",
      "| 실제 레이블 :  부정  | 예측 레이블: 부정\n"
     ]
    },
    {
     "data": {
      "text/html": [
       "<span style=\"background-color:#d0d0ff\">어우</span> <span style=\"background-color:#8282ff\">..</span> <span style=\"background-color:#ffe0e0\">이</span> <span style=\"background-color:#ffd6d6\">게</span> <span style=\"background-color:#9c9cff\">진짜</span> <span style=\"background-color:#fefeff\">무섭</span> <span style=\"background-color:#7474ff\">었어</span> <span style=\"background-color:#ff7c7c\">요</span> <span style=\"background-color:#ffc3c3\">??</span> <span style=\"background-color:#ececff\">진짜</span> <span style=\"background-color:#f8f8ff\">로</span> <span style=\"background-color:#ffeaea\">?</span> <span style=\"background-color:#ffe6e6\">시간</span> <span style=\"background-color:#ff1919\">아깝</span> <span style=\"background-color:#fcfcff\">었습니다</span> <span style=\"background-color:#f3f3ff\">.</span> \n"
      ],
      "text/plain": [
       "<IPython.core.display.HTML object>"
      ]
     },
     "metadata": {},
     "output_type": "display_data"
    },
    {
     "name": "stdout",
     "output_type": "stream",
     "text": [
      "-----------------------------------------------------------\n",
      "| 실제 레이블 :  부정  | 예측 레이블: 부정\n"
     ]
    },
    {
     "data": {
      "text/html": [
       "<span style=\"background-color:#d3d3ff\">미친놈들</span> <span style=\"background-color:#babaff\">네</span> <span style=\"background-color:#ffe4e4\">연출력</span> <span style=\"background-color:#ffe2e2\">스토리</span> <span style=\"background-color:#b0b0ff\">빵점</span> <span style=\"background-color:#ffeaea\">.</span> \n"
      ],
      "text/plain": [
       "<IPython.core.display.HTML object>"
      ]
     },
     "metadata": {},
     "output_type": "display_data"
    },
    {
     "name": "stdout",
     "output_type": "stream",
     "text": [
      "-----------------------------------------------------------\n",
      "| 실제 레이블 :  부정  | 예측 레이블: 부정\n"
     ]
    },
    {
     "data": {
      "text/html": [
       "<span style=\"background-color:#d2d2ff\">하</span> <span style=\"background-color:#c0c0ff\">어</span> <span style=\"background-color:#ffe4e4\">.</span> <span style=\"background-color:#ffe2e2\">..</span> <span style=\"background-color:#acacff\">작</span> <span style=\"background-color:#ffeaea\">은</span> <span style=\"background-color:#a0a0ff\">기대</span> <span style=\"background-color:#ff9898\">어</span> <span style=\"background-color:#ffc6c6\">하</span> <span style=\"background-color:#d0d0ff\">었는데</span> <span style=\"background-color:#f2f2ff\">..</span> <span style=\"background-color:#fffcfc\">..</span> <span style=\"background-color:#ececff\">도</span> <span style=\"background-color:#ff1c1c\">뭐</span> <span style=\"background-color:#fff8f8\">.</span> <span style=\"background-color:#e0e0ff\">.</span> <span style=\"background-color:#ccccff\">이</span> <span style=\"background-color:#ffb6b6\">건</span> <span style=\"background-color:#ffd8d8\">뭐</span> <span style=\"background-color:#c6c6ff\">원작</span> <span style=\"background-color:#e8e8ff\">비</span> <span style=\"background-color:#ceceff\">충실</span> <span style=\"background-color:#c3c3ff\">..</span> \n"
      ],
      "text/plain": [
       "<IPython.core.display.HTML object>"
      ]
     },
     "metadata": {},
     "output_type": "display_data"
    },
    {
     "name": "stdout",
     "output_type": "stream",
     "text": [
      "-----------------------------------------------------------\n",
      "| 실제 레이블 :  부정  | 예측 레이블: 부정\n"
     ]
    },
    {
     "data": {
      "text/html": [
       "<span style=\"background-color:#d3d3ff\">보</span> <span style=\"background-color:#b6b6ff\">ㄹ</span> <span style=\"background-color:#ffd8d8\">것</span> <span style=\"background-color:#ffecec\">없</span> <span style=\"background-color:#aeaeff\">을</span> <span style=\"background-color:#fff4f4\">때</span> <span style=\"background-color:#8888ff\">보</span> <span style=\"background-color:#ff8888\">아</span> <span style=\"background-color:#ffdcdc\">재미</span> <span style=\"background-color:#d6d6ff\">없</span> <span style=\"background-color:#f3f3ff\">는</span> <span style=\"background-color:#ffe6e6\">영화</span> <span style=\"background-color:#eeeeff\">!</span> \n"
      ],
      "text/plain": [
       "<IPython.core.display.HTML object>"
      ]
     },
     "metadata": {},
     "output_type": "display_data"
    },
    {
     "name": "stdout",
     "output_type": "stream",
     "text": [
      "-----------------------------------------------------------\n",
      "| 실제 레이블 :  부정  | 예측 레이블: 부정\n"
     ]
    },
    {
     "data": {
      "text/html": [
       "<span style=\"background-color:#d6d6ff\">제시카</span> <span style=\"background-color:#9a9aff\">알</span> <span style=\"background-color:#ffd2d2\">ㄹ</span> <span style=\"background-color:#ffd6d6\">바</span> <span style=\"background-color:#b2b2ff\">가</span> <span style=\"background-color:#fff2f2\">벗</span> <span style=\"background-color:#7c7cff\">고</span> <span style=\"background-color:#ff9e9e\">달려들</span> <span style=\"background-color:#ffe8e8\">ㄴ데</span> <span style=\"background-color:#e8e8ff\">말</span> <span style=\"background-color:#fefeff\">되</span> <span style=\"background-color:#ffd8d8\">냐</span> <span style=\"background-color:#f2f2ff\">?</span> \n"
      ],
      "text/plain": [
       "<IPython.core.display.HTML object>"
      ]
     },
     "metadata": {},
     "output_type": "display_data"
    },
    {
     "name": "stdout",
     "output_type": "stream",
     "text": [
      "-----------------------------------------------------------\n",
      "| 실제 레이블 :  부정  | 예측 레이블: 부정\n"
     ]
    },
    {
     "data": {
      "text/html": [
       "<span style=\"background-color:#d6d6ff\">솔직히</span> <span style=\"background-color:#a2a2ff\">이</span> <span style=\"background-color:#ffdcdc\">건</span> <span style=\"background-color:#ffd8d8\">C</span> <span style=\"background-color:#b0b0ff\">급</span> <span style=\"background-color:#fff4f4\">그</span> <span style=\"background-color:#8383ff\">이하</span> <span style=\"background-color:#ff9898\">의</span> <span style=\"background-color:#ffd8d8\">영화이긴</span> <span style=\"background-color:#e0e0ff\">하</span> <span style=\"background-color:#fafaff\">ㅁ</span> <span style=\"background-color:#ffe6e6\">ㅎㅎ</span> <span style=\"background-color:#fcfcff\">;</span> \n"
      ],
      "text/plain": [
       "<IPython.core.display.HTML object>"
      ]
     },
     "metadata": {},
     "output_type": "display_data"
    },
    {
     "name": "stdout",
     "output_type": "stream",
     "text": [
      "-----------------------------------------------------------\n",
      "| 실제 레이블 :  긍정  | 예측 레이블: 긍정\n"
     ]
    },
    {
     "data": {
      "text/html": [
       "<span style=\"background-color:#ffeeee\">아찔</span> <span style=\"background-color:#ff9393\">하</span> <span style=\"background-color:#dcdcff\">ㄴ</span> <span style=\"background-color:#eaeaff\">사랑</span> <span style=\"background-color:#ffbaba\">???</span> \n"
      ],
      "text/plain": [
       "<IPython.core.display.HTML object>"
      ]
     },
     "metadata": {},
     "output_type": "display_data"
    },
    {
     "name": "stdout",
     "output_type": "stream",
     "text": [
      "-----------------------------------------------------------\n",
      "| 실제 레이블 :  긍정  | 예측 레이블: 긍정\n"
     ]
    },
    {
     "data": {
      "text/html": [
       "<span style=\"background-color:#ffdcdc\">이</span> <span style=\"background-color:#ffa8a8\">영화</span> <span style=\"background-color:#d8d8ff\">를</span> <span style=\"background-color:#e3e3ff\">말</span> <span style=\"background-color:#ffb8b8\">하</span> <span style=\"background-color:#fafaff\">ㄴ데</span> <span style=\"background-color:#ff7979\">길</span> <span style=\"background-color:#9a9aff\">ㄴ</span> <span style=\"background-color:#d3d3ff\">단어</span> <span style=\"background-color:#fff2f2\">는</span> <span style=\"background-color:#ffeeee\">필요</span> <span style=\"background-color:#d6d6ff\">없</span> <span style=\"background-color:#ffecec\">다</span> <span style=\"background-color:#2c2cff\">.</span> <span style=\"background-color:#eeeeff\">재수</span> <span style=\"background-color:#ffe8e8\">없</span> <span style=\"background-color:#ffd0d0\">는</span> <span style=\"background-color:#cacaff\">졸작</span> <span style=\"background-color:#fffefe\">이것</span> <span style=\"background-color:#ffe0e0\">면</span> <span style=\"background-color:#fffefe\">충분</span> <span style=\"background-color:#ffcccc\">하</span> <span style=\"background-color:#ffc2c2\">다</span> <span style=\"background-color:#ffe2e2\">.</span> \n"
      ],
      "text/plain": [
       "<IPython.core.display.HTML object>"
      ]
     },
     "metadata": {},
     "output_type": "display_data"
    },
    {
     "name": "stdout",
     "output_type": "stream",
     "text": [
      "-----------------------------------------------------------\n",
      "| 실제 레이블 :  부정  | 예측 레이블: 부정\n"
     ]
    },
    {
     "data": {
      "text/html": [
       "<span style=\"background-color:#e6e6ff\">완전</span> <span style=\"background-color:#9393ff\">잼</span> <span style=\"background-color:#ffdada\">없</span> <span style=\"background-color:#ffe8e8\">음</span> <span style=\"background-color:#b2b2ff\">..</span> \n"
      ],
      "text/plain": [
       "<IPython.core.display.HTML object>"
      ]
     },
     "metadata": {},
     "output_type": "display_data"
    },
    {
     "name": "stdout",
     "output_type": "stream",
     "text": [
      "-----------------------------------------------------------\n",
      "| 실제 레이블 :  부정  | 예측 레이블: 부정\n"
     ]
    },
    {
     "data": {
      "text/html": [
       "<span style=\"background-color:#d6d6ff\">로코</span> <span style=\"background-color:#9292ff\">굉장히</span> <span style=\"background-color:#ffd6d6\">즐기</span> <span style=\"background-color:#ffcece\">어</span> <span style=\"background-color:#acacff\">보</span> <span style=\"background-color:#ffeeee\">ㄴ데</span> <span style=\"background-color:#8686ff\">,</span> <span style=\"background-color:#ff9a9a\">이</span> <span style=\"background-color:#ffdcdc\">영화</span> <span style=\"background-color:#e3e3ff\">는</span> <span style=\"background-color:#fafaff\">좀</span> <span style=\"background-color:#ffe2e2\">별</span> <span style=\"background-color:#f6f6ff\">로이</span> <span style=\"background-color:#ff2929\">었다</span> <span style=\"background-color:#f2f2ff\">.</span> <span style=\"background-color:#fcfcff\">뭔가</span> <span style=\"background-color:#c0c0ff\">사랑</span> <span style=\"background-color:#ffc3c3\">도</span> <span style=\"background-color:#ffe6e6\">개그</span> <span style=\"background-color:#ccccff\">도</span> <span style=\"background-color:#f6f6ff\">억지</span> <span style=\"background-color:#d3d3ff\">스런</span> <span style=\"background-color:#c3c3ff\">느끼</span> <span style=\"background-color:#f0f0ff\">ㅁ</span> <span style=\"background-color:#ff7171\">..</span> \n"
      ],
      "text/plain": [
       "<IPython.core.display.HTML object>"
      ]
     },
     "metadata": {},
     "output_type": "display_data"
    },
    {
     "name": "stdout",
     "output_type": "stream",
     "text": [
      "-----------------------------------------------------------\n",
      "| 실제 레이블 :  부정  | 예측 레이블: 부정\n"
     ]
    },
    {
     "data": {
      "text/html": [
       "<span style=\"background-color:#d6d6ff\">까지</span> <span style=\"background-color:#8a8aff\">넣</span> <span style=\"background-color:#ffdede\">은</span> <span style=\"background-color:#ffcece\">것</span> <span style=\"background-color:#aeaeff\">은</span> <span style=\"background-color:#fff0f0\">오버</span> <span style=\"background-color:#8686ff\">의</span> <span style=\"background-color:#ff9898\">극치</span> <span style=\"background-color:#ffd8d8\">다</span> \n"
      ],
      "text/plain": [
       "<IPython.core.display.HTML object>"
      ]
     },
     "metadata": {},
     "output_type": "display_data"
    },
    {
     "name": "stdout",
     "output_type": "stream",
     "text": [
      "-----------------------------------------------------------\n",
      "| 실제 레이블 :  부정  | 예측 레이블: 부정\n"
     ]
    },
    {
     "data": {
      "text/html": [
       "<span style=\"background-color:#e2e2ff\">뭐</span> <span style=\"background-color:#9393ff\">을</span> <span style=\"background-color:#ffd8d8\">만들</span> <span style=\"background-color:#ffd0d0\">ㄴ</span> <span style=\"background-color:#babaff\">것</span> <span style=\"background-color:#fff0f0\">ㄴ가</span> <span style=\"background-color:#9c9cff\">?</span> \n"
      ],
      "text/plain": [
       "<IPython.core.display.HTML object>"
      ]
     },
     "metadata": {},
     "output_type": "display_data"
    },
    {
     "name": "stdout",
     "output_type": "stream",
     "text": [
      "-----------------------------------------------------------\n",
      "| 실제 레이블 :  긍정  | 예측 레이블: 긍정\n"
     ]
    },
    {
     "data": {
      "text/html": [
       "<span style=\"background-color:#ffdada\">겠죠</span> \n"
      ],
      "text/plain": [
       "<IPython.core.display.HTML object>"
      ]
     },
     "metadata": {},
     "output_type": "display_data"
    },
    {
     "name": "stdout",
     "output_type": "stream",
     "text": [
      "-----------------------------------------------------------\n",
      "| 실제 레이블 :  부정  | 예측 레이블: 부정\n"
     ]
    },
    {
     "data": {
      "text/html": [
       "<span style=\"background-color:#dadaff\">꽂히</span> <span style=\"background-color:#9090ff\">ㄴ</span> <span style=\"background-color:#ffd2d2\">톰</span> <span style=\"background-color:#ffdada\">두</span> <span style=\"background-color:#b3b3ff\">고</span> <span style=\"background-color:#fff6f6\">톰</span> <span style=\"background-color:#8383ff\">썰</span> <span style=\"background-color:#ff8383\">ㅁ</span> <span style=\"background-color:#ffcece\">타</span> <span style=\"background-color:#f0f0ff\">아</span> <span style=\"background-color:#f0f0ff\">가</span> <span style=\"background-color:#ffd3d3\">아</span> <span style=\"background-color:#f3f3ff\">결국</span> <span style=\"background-color:#ff1616\">엔</span> <span style=\"background-color:#fffafa\">버리</span> <span style=\"background-color:#f2f2ff\">고</span> <span style=\"background-color:#cacaff\">달리</span> <span style=\"background-color:#ffbcbc\">어</span> <span style=\"background-color:#ffeaea\">가</span> <span style=\"background-color:#c0c0ff\">는</span> <span style=\"background-color:#fefeff\">맥</span> <span style=\"background-color:#d8d8ff\">.</span> \n"
      ],
      "text/plain": [
       "<IPython.core.display.HTML object>"
      ]
     },
     "metadata": {},
     "output_type": "display_data"
    },
    {
     "name": "stdout",
     "output_type": "stream",
     "text": [
      "-----------------------------------------------------------\n"
     ]
    }
   ],
   "source": [
    "for index, i in enumerate(negative_list):\n",
    "    target_data = x_test[i]\n",
    "    target_class = np.argmax(predictions[i])\n",
    "\n",
    "    scores, Gx =get_relavance(target_data, target_class)\n",
    "    R_words_SA       = (np.linalg.norm(Gx,ord=2, axis=0))**2   # compute word-level Sensitivity Analysis relevances\n",
    "    R_words_GI       = np.dot(target_data, Gx) \n",
    "\n",
    "    words = index_to_word(target_data)\n",
    "    \n",
    "    if len(words) > 0 :\n",
    "        print(\"| 실제 레이블 : \", int_to_str(target_class), \" | 예측 레이블:\", int_to_str(np.argmax(predictions[i])))\n",
    "\n",
    "    #     print(\"        SA heatmap:\")\n",
    "    #    display(HTML(html_heatmap(words, R_words_SA)))\n",
    "\n",
    "    #     print(\"        GI heatmap:\")\n",
    "        display(HTML(html_heatmap(words, R_words_GI)))\n",
    "\n",
    "        print(\"-----------------------------------------------------------\")\n",
    "        \n",
    "    if index == 50: # 50개만 출력\n",
    "        break"
   ]
  },
  {
   "cell_type": "code",
   "execution_count": 43,
   "metadata": {
    "scrolled": false
   },
   "outputs": [
    {
     "name": "stdout",
     "output_type": "stream",
     "text": [
      "| 실제 레이블 :  긍정  | 예측 레이블: 긍정\n"
     ]
    },
    {
     "data": {
      "text/html": [
       "<span style=\"background-color:#ffdada\">굳</span> <span style=\"background-color:#ffb6b6\">ㅋ</span> \n"
      ],
      "text/plain": [
       "<IPython.core.display.HTML object>"
      ]
     },
     "metadata": {},
     "output_type": "display_data"
    },
    {
     "name": "stdout",
     "output_type": "stream",
     "text": [
      "-----------------------------------------------------------\n",
      "| 실제 레이블 :  긍정  | 예측 레이블: 긍정\n"
     ]
    },
    {
     "data": {
      "text/html": [
       "<span style=\"background-color:#ffcaca\">음악</span> <span style=\"background-color:#ffc8c8\">주</span> <span style=\"background-color:#eaeaff\">가</span> <span style=\"background-color:#dedeff\">되</span> <span style=\"background-color:#ffacac\">ㄴ</span> <span style=\"background-color:#eeeeff\">,</span> <span style=\"background-color:#ff9c9c\">최고</span> <span style=\"background-color:#8c8cff\">의</span> <span style=\"background-color:#c6c6ff\">음악영화</span> \n"
      ],
      "text/plain": [
       "<IPython.core.display.HTML object>"
      ]
     },
     "metadata": {},
     "output_type": "display_data"
    },
    {
     "name": "stdout",
     "output_type": "stream",
     "text": [
      "-----------------------------------------------------------\n",
      "| 실제 레이블 :  긍정  | 예측 레이블: 긍정\n"
     ]
    },
    {
     "data": {
      "text/html": [
       "<span style=\"background-color:#ffd8d8\">이별</span> <span style=\"background-color:#ff8c8c\">의</span> <span style=\"background-color:#d2d2ff\">에</span> <span style=\"background-color:#e8e8ff\">찾</span> <span style=\"background-color:#ffb2b2\">아</span> <span style=\"background-color:#f8f8ff\">오</span> <span style=\"background-color:#ff7070\">는</span> <span style=\"background-color:#a0a0ff\">새롭</span> <span style=\"background-color:#eaeaff\">은</span> <span style=\"background-color:#ffeeee\">인연</span> <span style=\"background-color:#fffafa\">의</span> <span style=\"background-color:#ceceff\">기쁘</span> <span style=\"background-color:#ffecec\">ㅁ</span> <span style=\"background-color:#0e0eff\">But</span> <span style=\"background-color:#f8f8ff\">,</span> <span style=\"background-color:#fff2f2\">모든</span> <span style=\"background-color:#ffc8c8\">사람</span> <span style=\"background-color:#b8b8ff\">그렇</span> <span style=\"background-color:#f3f3ff\">지</span> <span style=\"background-color:#ffd8d8\">는</span> <span style=\"background-color:#f6f6ff\">않</span> <span style=\"background-color:#ffcece\">네</span> <span style=\"background-color:#ffd8d8\">..</span> \n"
      ],
      "text/plain": [
       "<IPython.core.display.HTML object>"
      ]
     },
     "metadata": {},
     "output_type": "display_data"
    },
    {
     "name": "stdout",
     "output_type": "stream",
     "text": [
      "-----------------------------------------------------------\n",
      "| 실제 레이블 :  긍정  | 예측 레이블: 긍정\n"
     ]
    },
    {
     "data": {
      "text/html": [
       "<span style=\"background-color:#ffe4e4\">다</span> <span style=\"background-color:#ff9292\">그</span> <span style=\"background-color:#d3d3ff\">아름다움</span> <span style=\"background-color:#e3e3ff\">은</span> <span style=\"background-color:#ffb2b2\">이성</span> <span style=\"background-color:#fafaff\">을</span> <span style=\"background-color:#ff7676\">흔들</span> <span style=\"background-color:#8888ff\">어</span> <span style=\"background-color:#e6e6ff\">놓</span> <span style=\"background-color:#ffe2e2\">는다</span> <span style=\"background-color:#fffafa\">.</span> <span style=\"background-color:#d0d0ff\">의</span> <span style=\"background-color:#fff2f2\">아름다움</span> <span style=\"background-color:#1616ff\">을</span> <span style=\"background-color:#fafaff\">잘</span> <span style=\"background-color:#fff4f4\">하</span> <span style=\"background-color:#ffcaca\">ㄴ</span> <span style=\"background-color:#c6c6ff\">섬세</span> <span style=\"background-color:#e8e8ff\">하고</span> <span style=\"background-color:#ffd0d0\">아름답</span> <span style=\"background-color:#fafaff\">은</span> <span style=\"background-color:#ffcece\">같</span> <span style=\"background-color:#ffd8d8\">은</span> <span style=\"background-color:#ffe4e4\">퀴어영화</span> <span style=\"background-color:#6464ff\">다</span> <span style=\"background-color:#bcbcff\">.</span> \n"
      ],
      "text/plain": [
       "<IPython.core.display.HTML object>"
      ]
     },
     "metadata": {},
     "output_type": "display_data"
    },
    {
     "name": "stdout",
     "output_type": "stream",
     "text": [
      "-----------------------------------------------------------\n",
      "| 실제 레이블 :  긍정  | 예측 레이블: 긍정\n"
     ]
    },
    {
     "data": {
      "text/html": [
       "<span style=\"background-color:#ffeaea\">눈</span> <span style=\"background-color:#ffaeae\">에</span> <span style=\"background-color:#d3d3ff\">보이</span> <span style=\"background-color:#f0f0ff\">는</span> <span style=\"background-color:#ffd2d2\">반전</span> <span style=\"background-color:#fff4f4\">었지만</span> <span style=\"background-color:#ff6e6e\">영화</span> <span style=\"background-color:#aeaeff\">의</span> <span style=\"background-color:#ceceff\">흡인력</span> <span style=\"background-color:#fff8f8\">은</span> <span style=\"background-color:#ffe2e2\">사라지</span> <span style=\"background-color:#dedeff\">지</span> <span style=\"background-color:#fff0f0\">않</span> <span style=\"background-color:#3838ff\">아다</span> <span style=\"background-color:#fefeff\">.</span> \n"
      ],
      "text/plain": [
       "<IPython.core.display.HTML object>"
      ]
     },
     "metadata": {},
     "output_type": "display_data"
    },
    {
     "name": "stdout",
     "output_type": "stream",
     "text": [
      "-----------------------------------------------------------\n",
      "| 실제 레이블 :  부정  | 예측 레이블: 부정\n"
     ]
    },
    {
     "data": {
      "text/html": [
       "<span style=\"background-color:#e8e8ff\">소위</span> <span style=\"background-color:#a6a6ff\">는</span> <span style=\"background-color:#ffc6c6\">평점</span> <span style=\"background-color:#fff2f2\">은</span> <span style=\"background-color:#bcbcff\">뭐</span> <span style=\"background-color:#fcfcff\">냐</span> <span style=\"background-color:#6868ff\">?</span> \n"
      ],
      "text/plain": [
       "<IPython.core.display.HTML object>"
      ]
     },
     "metadata": {},
     "output_type": "display_data"
    },
    {
     "name": "stdout",
     "output_type": "stream",
     "text": [
      "-----------------------------------------------------------\n",
      "| 실제 레이블 :  긍정  | 예측 레이블: 긍정\n"
     ]
    },
    {
     "data": {
      "text/html": [
       "<span style=\"background-color:#ffdada\">최고</span> <span style=\"background-color:#ffa0a0\">!!!!!</span> <span style=\"background-color:#e3e3ff\">!!!!!</span> <span style=\"background-color:#e3e3ff\">!!!!!</span> <span style=\"background-color:#ffb2b2\">!</span> \n"
      ],
      "text/plain": [
       "<IPython.core.display.HTML object>"
      ]
     },
     "metadata": {},
     "output_type": "display_data"
    },
    {
     "name": "stdout",
     "output_type": "stream",
     "text": [
      "-----------------------------------------------------------\n",
      "| 실제 레이블 :  긍정  | 예측 레이블: 긍정\n"
     ]
    },
    {
     "data": {
      "text/html": [
       "<span style=\"background-color:#ffe0e0\">시리즈</span> <span style=\"background-color:#ff8e8e\">의</span> <span style=\"background-color:#d3d3ff\">.</span> <span style=\"background-color:#e6e6ff\">작가</span> <span style=\"background-color:#ffaeae\">의</span> <span style=\"background-color:#fefeff\">상상력</span> <span style=\"background-color:#ff7171\">돋보이</span> <span style=\"background-color:#9090ff\">는</span> <span style=\"background-color:#f0f0ff\">작품</span> <span style=\"background-color:#ffe2e2\">며</span> <span style=\"background-color:#fffafa\">,</span> <span style=\"background-color:#cacaff\">로</span> <span style=\"background-color:#fffcfc\">는</span> <span style=\"background-color:#1212ff\">은</span> <span style=\"background-color:#fafaff\">지금보</span> <span style=\"background-color:#fff8f8\">더라도</span> <span style=\"background-color:#ffc6c6\">상당히</span> <span style=\"background-color:#cacaff\">잔인</span> <span style=\"background-color:#e8e8ff\">하고</span> <span style=\"background-color:#ffd2d2\">충격적</span> <span style=\"background-color:#fcfcff\">다</span> <span style=\"background-color:#ffc6c6\">.</span> \n"
      ],
      "text/plain": [
       "<IPython.core.display.HTML object>"
      ]
     },
     "metadata": {},
     "output_type": "display_data"
    },
    {
     "name": "stdout",
     "output_type": "stream",
     "text": [
      "-----------------------------------------------------------\n",
      "| 실제 레이블 :  긍정  | 예측 레이블: 긍정\n"
     ]
    },
    {
     "data": {
      "text/html": [
       "<span style=\"background-color:#ffd8d8\">꽤</span> <span style=\"background-color:#ffb2b2\">재밌</span> <span style=\"background-color:#d3d3ff\">게</span> <span style=\"background-color:#eaeaff\">보</span> <span style=\"background-color:#ffb2b2\">ㄴ</span> <span style=\"background-color:#fafaff\">영화</span> <span style=\"background-color:#ff7c7c\">었다</span> <span style=\"background-color:#7878ff\">!</span> \n"
      ],
      "text/plain": [
       "<IPython.core.display.HTML object>"
      ]
     },
     "metadata": {},
     "output_type": "display_data"
    },
    {
     "name": "stdout",
     "output_type": "stream",
     "text": [
      "-----------------------------------------------------------\n",
      "| 실제 레이블 :  부정  | 예측 레이블: 부정\n"
     ]
    },
    {
     "data": {
      "text/html": [
       "<span style=\"background-color:#d6d6ff\">민주화</span> <span style=\"background-color:#9e9eff\">시대</span> <span style=\"background-color:#ffd2d2\">의</span> <span style=\"background-color:#ffe8e8\">ㄴ</span> <span style=\"background-color:#a8a8ff\">영혼</span> <span style=\"background-color:#fff8f8\">의</span> <span style=\"background-color:#6969ff\">ㄴ</span> <span style=\"background-color:#ff8686\">욕구</span> <span style=\"background-color:#fff6f6\">.</span> <span style=\"background-color:#e6e6ff\">인상적</span> <span style=\"background-color:#fffcfc\">다</span> <span style=\"background-color:#ffcaca\">.</span> \n"
      ],
      "text/plain": [
       "<IPython.core.display.HTML object>"
      ]
     },
     "metadata": {},
     "output_type": "display_data"
    },
    {
     "name": "stdout",
     "output_type": "stream",
     "text": [
      "-----------------------------------------------------------\n",
      "| 실제 레이블 :  긍정  | 예측 레이블: 긍정\n"
     ]
    },
    {
     "data": {
      "text/html": [
       "<span style=\"background-color:#ffe0e0\">놈</span> <span style=\"background-color:#ffb2b2\">한테</span> <span style=\"background-color:#cacaff\">당하</span> <span style=\"background-color:#e6e6ff\">었을</span> <span style=\"background-color:#ffb8b8\">것</span> <span style=\"background-color:#fefeff\">ㅁ</span> <span style=\"background-color:#ff6e6e\">.</span> <span style=\"background-color:#a0a0ff\">하</span> <span style=\"background-color:#fcfcff\">ㄴ</span> <span style=\"background-color:#fffefe\">놈</span> <span style=\"background-color:#ffe6e6\">,</span> <span style=\"background-color:#c6c6ff\">두</span> <span style=\"background-color:#ffdede\">놈</span> <span style=\"background-color:#2c2cff\">막</span> <span style=\"background-color:#ececff\">나</span> <span style=\"background-color:#ffe0e0\">아</span> <span style=\"background-color:#ffd6d6\">오</span> <span style=\"background-color:#ceceff\">ㄹ</span> <span style=\"background-color:#fffafa\">것</span> <span style=\"background-color:#fff2f2\">뻔하</span> <span style=\"background-color:#f6f6ff\">었으니</span> <span style=\"background-color:#ffd8d8\">수</span> <span style=\"background-color:#ffeaea\">밖</span> <span style=\"background-color:#ffdcdc\">에</span> <span style=\"background-color:#8888ff\">없</span> <span style=\"background-color:#b6b6ff\">었다</span> <span style=\"background-color:#f8f8ff\">.</span> \n"
      ],
      "text/plain": [
       "<IPython.core.display.HTML object>"
      ]
     },
     "metadata": {},
     "output_type": "display_data"
    },
    {
     "name": "stdout",
     "output_type": "stream",
     "text": [
      "-----------------------------------------------------------\n",
      "| 실제 레이블 :  긍정  | 예측 레이블: 긍정\n"
     ]
    },
    {
     "data": {
      "text/html": [
       "<span style=\"background-color:#ffd3d3\">50번</span> <span style=\"background-color:#ffbcbc\">은</span> <span style=\"background-color:#e0e0ff\">이렇</span> <span style=\"background-color:#e0e0ff\">게</span> \n"
      ],
      "text/plain": [
       "<IPython.core.display.HTML object>"
      ]
     },
     "metadata": {},
     "output_type": "display_data"
    },
    {
     "name": "stdout",
     "output_type": "stream",
     "text": [
      "-----------------------------------------------------------\n",
      "| 실제 레이블 :  부정  | 예측 레이블: 부정\n"
     ]
    },
    {
     "data": {
      "text/html": [
       "<span style=\"background-color:#d3d3ff\">...</span> \n"
      ],
      "text/plain": [
       "<IPython.core.display.HTML object>"
      ]
     },
     "metadata": {},
     "output_type": "display_data"
    },
    {
     "name": "stdout",
     "output_type": "stream",
     "text": [
      "-----------------------------------------------------------\n",
      "| 실제 레이블 :  긍정  | 예측 레이블: 긍정\n"
     ]
    },
    {
     "data": {
      "text/html": [
       "<span style=\"background-color:#ffe2e2\">지금</span> <span style=\"background-color:#ff9e9e\">까지</span> <span style=\"background-color:#d6d6ff\">보</span> <span style=\"background-color:#e3e3ff\">ㄴ</span> <span style=\"background-color:#ffb3b3\">영화중</span> <span style=\"background-color:#f8f8ff\">마음</span> <span style=\"background-color:#ff7878\">가장</span> <span style=\"background-color:#7474ff\">따뜻해지</span> <span style=\"background-color:#e2e2ff\">는</span> <span style=\"background-color:#ffd6d6\">영화</span> <span style=\"background-color:#fff2f2\">.</span> \n"
      ],
      "text/plain": [
       "<IPython.core.display.HTML object>"
      ]
     },
     "metadata": {},
     "output_type": "display_data"
    },
    {
     "name": "stdout",
     "output_type": "stream",
     "text": [
      "-----------------------------------------------------------\n",
      "| 실제 레이블 :  긍정  | 예측 레이블: 긍정\n"
     ]
    },
    {
     "data": {
      "text/html": [
       "<span style=\"background-color:#ffdcdc\">너무너무</span> <span style=\"background-color:#ffa6a6\">재밌다</span> \n"
      ],
      "text/plain": [
       "<IPython.core.display.HTML object>"
      ]
     },
     "metadata": {},
     "output_type": "display_data"
    },
    {
     "name": "stdout",
     "output_type": "stream",
     "text": [
      "-----------------------------------------------------------\n",
      "| 실제 레이블 :  부정  | 예측 레이블: 부정\n"
     ]
    },
    {
     "data": {
      "text/html": [
       "<span style=\"background-color:#e2e2ff\">안보</span> <span style=\"background-color:#9696ff\">면</span> <span style=\"background-color:#ffd3d3\">...</span> \n"
      ],
      "text/plain": [
       "<IPython.core.display.HTML object>"
      ]
     },
     "metadata": {},
     "output_type": "display_data"
    },
    {
     "name": "stdout",
     "output_type": "stream",
     "text": [
      "-----------------------------------------------------------\n",
      "| 실제 레이블 :  긍정  | 예측 레이블: 긍정\n"
     ]
    },
    {
     "data": {
      "text/html": [
       "<span style=\"background-color:#ffd8d8\">애니</span> <span style=\"background-color:#ffaeae\">는</span> <span style=\"background-color:#dcdcff\">일본</span> <span style=\"background-color:#e0e0ff\">갑</span> <span style=\"background-color:#ffb6b6\">ㄴ</span> <span style=\"background-color:#fffcfc\">듯</span> <span style=\"background-color:#ff7171\">.</span> \n"
      ],
      "text/plain": [
       "<IPython.core.display.HTML object>"
      ]
     },
     "metadata": {},
     "output_type": "display_data"
    },
    {
     "name": "stdout",
     "output_type": "stream",
     "text": [
      "-----------------------------------------------------------\n",
      "| 실제 레이블 :  긍정  | 예측 레이블: 긍정\n"
     ]
    },
    {
     "data": {
      "text/html": [
       "<span style=\"background-color:#ffd8d8\">감동적</span> <span style=\"background-color:#ffb6b6\">다</span> <span style=\"background-color:#e2e2ff\">....</span> \n"
      ],
      "text/plain": [
       "<IPython.core.display.HTML object>"
      ]
     },
     "metadata": {},
     "output_type": "display_data"
    },
    {
     "name": "stdout",
     "output_type": "stream",
     "text": [
      "-----------------------------------------------------------\n",
      "| 실제 레이블 :  긍정  | 예측 레이블: 긍정\n"
     ]
    },
    {
     "data": {
      "text/html": [
       "<span style=\"background-color:#ffd8d8\">ㄹ</span> <span style=\"background-color:#ff9e9e\">액션영화</span> <span style=\"background-color:#dadaff\">굿굿</span> <span style=\"background-color:#e8e8ff\">!!</span> \n"
      ],
      "text/plain": [
       "<IPython.core.display.HTML object>"
      ]
     },
     "metadata": {},
     "output_type": "display_data"
    },
    {
     "name": "stdout",
     "output_type": "stream",
     "text": [
      "-----------------------------------------------------------\n",
      "| 실제 레이블 :  긍정  | 예측 레이블: 긍정\n"
     ]
    },
    {
     "data": {
      "text/html": [
       "<span style=\"background-color:#ffd6d6\">제임스</span> <span style=\"background-color:#ffb8b8\">더</span> \n"
      ],
      "text/plain": [
       "<IPython.core.display.HTML object>"
      ]
     },
     "metadata": {},
     "output_type": "display_data"
    },
    {
     "name": "stdout",
     "output_type": "stream",
     "text": [
      "-----------------------------------------------------------\n",
      "| 실제 레이블 :  긍정  | 예측 레이블: 긍정\n"
     ]
    },
    {
     "data": {
      "text/html": [
       "<span style=\"background-color:#ffdcdc\">아</span> <span style=\"background-color:#ff9a9a\">극장</span> <span style=\"background-color:#d2d2ff\">에서</span> <span style=\"background-color:#e2e2ff\">아무</span> <span style=\"background-color:#ffaeae\">기대</span> <span style=\"background-color:#fcfcff\">없이</span> <span style=\"background-color:#ff6868\">들</span> <span style=\"background-color:#9292ff\">어</span> <span style=\"background-color:#eeeeff\">가</span> <span style=\"background-color:#fff0f0\">아다가</span> <span style=\"background-color:#fffafa\">감탄</span> <span style=\"background-color:#ccccff\">하</span> <span style=\"background-color:#fff2f2\">면서</span> <span style=\"background-color:#1a1aff\">보</span> <span style=\"background-color:#f6f6ff\">고</span> <span style=\"background-color:#ffeeee\">나</span> <span style=\"background-color:#ffcece\">아</span> <span style=\"background-color:#d0d0ff\">오</span> <span style=\"background-color:#f8f8ff\">아ㄴ데</span> <span style=\"background-color:#ffdada\">.</span> <span style=\"background-color:#fcfcff\">2001년</span> <span style=\"background-color:#ffcece\">도</span> <span style=\"background-color:#ffd3d3\">나</span> <span style=\"background-color:#ffe4e4\">그</span> <span style=\"background-color:#5e5eff\">때</span> <span style=\"background-color:#c0c0ff\">가</span> <span style=\"background-color:#f0f0ff\">.</span> \n"
      ],
      "text/plain": [
       "<IPython.core.display.HTML object>"
      ]
     },
     "metadata": {},
     "output_type": "display_data"
    },
    {
     "name": "stdout",
     "output_type": "stream",
     "text": [
      "-----------------------------------------------------------\n",
      "| 실제 레이블 :  긍정  | 예측 레이블: 긍정\n"
     ]
    },
    {
     "data": {
      "text/html": [
       "<span style=\"background-color:#ffcece\">아이디어</span> <span style=\"background-color:#ffc3c3\">가</span> <span style=\"background-color:#cacaff\">아주</span> <span style=\"background-color:#eeeeff\">좋</span> <span style=\"background-color:#ffb3b3\">다</span> <span style=\"background-color:#f8f8ff\">재밌다</span> \n"
      ],
      "text/plain": [
       "<IPython.core.display.HTML object>"
      ]
     },
     "metadata": {},
     "output_type": "display_data"
    },
    {
     "name": "stdout",
     "output_type": "stream",
     "text": [
      "-----------------------------------------------------------\n",
      "| 실제 레이블 :  긍정  | 예측 레이블: 긍정\n"
     ]
    },
    {
     "data": {
      "text/html": [
       "<span style=\"background-color:#ffd0d0\">나</span> <span style=\"background-color:#ffc6c6\">ㄴ</span> <span style=\"background-color:#dcdcff\">재밌던데</span> <span style=\"background-color:#e2e2ff\">평점</span> <span style=\"background-color:#ffb0b0\">왜케</span> <span style=\"background-color:#e8e8ff\">낮</span> <span style=\"background-color:#ff9292\">지</span> \n"
      ],
      "text/plain": [
       "<IPython.core.display.HTML object>"
      ]
     },
     "metadata": {},
     "output_type": "display_data"
    },
    {
     "name": "stdout",
     "output_type": "stream",
     "text": [
      "-----------------------------------------------------------\n",
      "| 실제 레이블 :  부정  | 예측 레이블: 부정\n"
     ]
    },
    {
     "data": {
      "text/html": [
       "<span style=\"background-color:#e2e2ff\">몇년</span> <span style=\"background-color:#9696ff\">만에</span> <span style=\"background-color:#ffd2d2\">고</span> <span style=\"background-color:#ffe8e8\">지</span> <span style=\"background-color:#b2b2ff\">.</span> <span style=\"background-color:#fffefe\">로</span> \n"
      ],
      "text/plain": [
       "<IPython.core.display.HTML object>"
      ]
     },
     "metadata": {},
     "output_type": "display_data"
    },
    {
     "name": "stdout",
     "output_type": "stream",
     "text": [
      "-----------------------------------------------------------\n",
      "| 실제 레이블 :  긍정  | 예측 레이블: 긍정\n"
     ]
    },
    {
     "data": {
      "text/html": [
       "<span style=\"background-color:#ffe2e2\">재밌다</span> <span style=\"background-color:#ff9292\">!</span> <span style=\"background-color:#e2e2ff\">내용</span> <span style=\"background-color:#e2e2ff\">도</span> <span style=\"background-color:#ffb8b8\">신선</span> <span style=\"background-color:#fff6f6\">하고</span> <span style=\"background-color:#ff8a8a\">있</span> <span style=\"background-color:#6868ff\">으며</span> <span style=\"background-color:#c8c8ff\">연기</span> <span style=\"background-color:#ffe2e2\">도</span> <span style=\"background-color:#fff4f4\">좋</span> <span style=\"background-color:#dedeff\">고</span> <span style=\"background-color:#f8f8ff\">~~</span> \n"
      ],
      "text/plain": [
       "<IPython.core.display.HTML object>"
      ]
     },
     "metadata": {},
     "output_type": "display_data"
    },
    {
     "name": "stdout",
     "output_type": "stream",
     "text": [
      "-----------------------------------------------------------\n",
      "| 실제 레이블 :  긍정  | 예측 레이블: 긍정\n"
     ]
    },
    {
     "data": {
      "text/html": [
       "<span style=\"background-color:#ffdada\">여름</span> <span style=\"background-color:#ffa0a0\">면</span> <span style=\"background-color:#dadaff\">생각나</span> <span style=\"background-color:#dcdcff\">는</span> <span style=\"background-color:#ffb2b2\">드라마</span> \n"
      ],
      "text/plain": [
       "<IPython.core.display.HTML object>"
      ]
     },
     "metadata": {},
     "output_type": "display_data"
    },
    {
     "name": "stdout",
     "output_type": "stream",
     "text": [
      "-----------------------------------------------------------\n",
      "| 실제 레이블 :  긍정  | 예측 레이블: 긍정\n"
     ]
    },
    {
     "data": {
      "text/html": [
       "<span style=\"background-color:#ffdcdc\">엠비씨</span> <span style=\"background-color:#ffa8a8\">에서</span> <span style=\"background-color:#d3d3ff\">보</span> <span style=\"background-color:#e3e3ff\">아ㄴ데</span> <span style=\"background-color:#ffb8b8\">또</span> <span style=\"background-color:#fafaff\">보</span> <span style=\"background-color:#ff7676\">아</span> <span style=\"background-color:#8282ff\">엄청</span> <span style=\"background-color:#dedeff\">잼나네</span> <span style=\"background-color:#ffe2e2\">어</span> <span style=\"background-color:#fff6f6\">..</span> \n"
      ],
      "text/plain": [
       "<IPython.core.display.HTML object>"
      ]
     },
     "metadata": {},
     "output_type": "display_data"
    },
    {
     "name": "stdout",
     "output_type": "stream",
     "text": [
      "-----------------------------------------------------------\n",
      "| 실제 레이블 :  긍정  | 예측 레이블: 긍정\n"
     ]
    },
    {
     "data": {
      "text/html": [
       "<span style=\"background-color:#ffd2d2\">몇번</span> <span style=\"background-color:#ffbcbc\">을</span> <span style=\"background-color:#ceceff\">보</span> <span style=\"background-color:#eeeeff\">아</span> <span style=\"background-color:#ffb6b6\">보</span> <span style=\"background-color:#f8f8ff\">ㄹ</span> <span style=\"background-color:#ff8383\">때</span> <span style=\"background-color:#7474ff\">마다</span> <span style=\"background-color:#e0e0ff\">재밌다</span> \n"
      ],
      "text/plain": [
       "<IPython.core.display.HTML object>"
      ]
     },
     "metadata": {},
     "output_type": "display_data"
    },
    {
     "name": "stdout",
     "output_type": "stream",
     "text": [
      "-----------------------------------------------------------\n",
      "| 실제 레이블 :  긍정  | 예측 레이블: 긍정\n"
     ]
    },
    {
     "data": {
      "text/html": [
       "<span style=\"background-color:#ffd3d3\">재미있</span> <span style=\"background-color:#ffb6b6\">게</span> <span style=\"background-color:#dcdcff\">잘봤습니다</span> <span style=\"background-color:#e6e6ff\">후속편</span> <span style=\"background-color:#ffb0b0\">을</span> <span style=\"background-color:#f8f8ff\">기다리</span> <span style=\"background-color:#ff7676\">게</span> <span style=\"background-color:#8282ff\">만들</span> <span style=\"background-color:#e2e2ff\">네요</span> \n"
      ],
      "text/plain": [
       "<IPython.core.display.HTML object>"
      ]
     },
     "metadata": {},
     "output_type": "display_data"
    },
    {
     "name": "stdout",
     "output_type": "stream",
     "text": [
      "-----------------------------------------------------------\n",
      "| 실제 레이블 :  긍정  | 예측 레이블: 긍정\n"
     ]
    },
    {
     "data": {
      "text/html": [
       "<span style=\"background-color:#ffdede\">결말</span> <span style=\"background-color:#ff9e9e\">뻔히</span> <span style=\"background-color:#e0e0ff\">알</span> <span style=\"background-color:#e2e2ff\">면서</span> <span style=\"background-color:#ffb6b6\">보</span> <span style=\"background-color:#fffcfc\">ㄴ데</span> <span style=\"background-color:#ff8282\">도</span> <span style=\"background-color:#7979ff\">너무</span> <span style=\"background-color:#d3d3ff\">슬프</span> <span style=\"background-color:#ffe4e4\">고</span> <span style=\"background-color:#fff6f6\">많</span> <span style=\"background-color:#dcdcff\">이</span> <span style=\"background-color:#fffefe\">울</span> <span style=\"background-color:#1212ff\">었음</span> <span style=\"background-color:#f2f2ff\">.</span> \n"
      ],
      "text/plain": [
       "<IPython.core.display.HTML object>"
      ]
     },
     "metadata": {},
     "output_type": "display_data"
    },
    {
     "name": "stdout",
     "output_type": "stream",
     "text": [
      "-----------------------------------------------------------\n",
      "| 실제 레이블 :  긍정  | 예측 레이블: 긍정\n"
     ]
    },
    {
     "data": {
      "text/html": [
       "<span style=\"background-color:#ffdede\">해</span> <span style=\"background-color:#ff9e9e\">고</span> <span style=\"background-color:#d3d3ff\">되</span> <span style=\"background-color:#dadaff\">고</span> <span style=\"background-color:#ffb8b8\">부인</span> <span style=\"background-color:#f2f2ff\">에게</span> <span style=\"background-color:#ff8383\">하고</span> <span style=\"background-color:#9c9cff\">,</span> <span style=\"background-color:#dcdcff\">그</span> <span style=\"background-color:#ffe6e6\">모든</span> <span style=\"background-color:#fffafa\">을</span> <span style=\"background-color:#dadaff\">잃</span> <span style=\"background-color:#ffeeee\">을</span> <span style=\"background-color:#1e1eff\">만큼</span> <span style=\"background-color:#fcfcff\">불륜</span> <span style=\"background-color:#fff6f6\">으로</span> <span style=\"background-color:#ffcaca\">생기</span> <span style=\"background-color:#c0c0ff\">ㄴ</span> <span style=\"background-color:#eaeaff\">아이</span> <span style=\"background-color:#ffd2d2\">를</span> <span style=\"background-color:#fffafa\">게</span> <span style=\"background-color:#ffdada\">그리</span> <span style=\"background-color:#ffcece\">중요</span> <span style=\"background-color:#fff0f0\">하</span> <span style=\"background-color:#7474ff\">었을까</span> <span style=\"background-color:#b3b3ff\">???</span> \n"
      ],
      "text/plain": [
       "<IPython.core.display.HTML object>"
      ]
     },
     "metadata": {},
     "output_type": "display_data"
    },
    {
     "name": "stdout",
     "output_type": "stream",
     "text": [
      "-----------------------------------------------------------\n",
      "| 실제 레이블 :  긍정  | 예측 레이블: 긍정\n"
     ]
    },
    {
     "data": {
      "text/html": [
       "<span style=\"background-color:#ffd6d6\">널</span> <span style=\"background-color:#ffacac\">ㅁ</span> <span style=\"background-color:#d2d2ff\">좋</span> <span style=\"background-color:#dadaff\">아</span> <span style=\"background-color:#ffb2b2\">대박</span> <span style=\"background-color:#f0f0ff\">재밌음</span> \n"
      ],
      "text/plain": [
       "<IPython.core.display.HTML object>"
      ]
     },
     "metadata": {},
     "output_type": "display_data"
    },
    {
     "name": "stdout",
     "output_type": "stream",
     "text": [
      "-----------------------------------------------------------\n",
      "| 실제 레이블 :  긍정  | 예측 레이블: 긍정\n"
     ]
    },
    {
     "data": {
      "text/html": [
       "<span style=\"background-color:#ffcece\">참</span> <span style=\"background-color:#ffbaba\">대단</span> <span style=\"background-color:#e3e3ff\">하</span> <span style=\"background-color:#e2e2ff\">ㄴ</span> <span style=\"background-color:#ffaeae\">것</span> <span style=\"background-color:#f0f0ff\">...</span> <span style=\"background-color:#ff8a8a\">재</span> <span style=\"background-color:#8888ff\">.</span> <span style=\"background-color:#ceceff\">.?</span> \n"
      ],
      "text/plain": [
       "<IPython.core.display.HTML object>"
      ]
     },
     "metadata": {},
     "output_type": "display_data"
    },
    {
     "name": "stdout",
     "output_type": "stream",
     "text": [
      "-----------------------------------------------------------\n",
      "| 실제 레이블 :  긍정  | 예측 레이블: 긍정\n"
     ]
    },
    {
     "data": {
      "text/html": [
       "<span style=\"background-color:#ffd3d3\">보</span> <span style=\"background-color:#ffb3b3\">ㄹ</span> <span style=\"background-color:#e2e2ff\">만</span> <span style=\"background-color:#e0e0ff\">하</span> <span style=\"background-color:#ffb0b0\">ㅁ</span> \n"
      ],
      "text/plain": [
       "<IPython.core.display.HTML object>"
      ]
     },
     "metadata": {},
     "output_type": "display_data"
    },
    {
     "name": "stdout",
     "output_type": "stream",
     "text": [
      "-----------------------------------------------------------\n",
      "| 실제 레이블 :  긍정  | 예측 레이블: 긍정\n"
     ]
    },
    {
     "data": {
      "text/html": [
       "<span style=\"background-color:#ffe2e2\">개성</span> <span style=\"background-color:#ff9a9a\">있</span> <span style=\"background-color:#dedeff\">는</span> <span style=\"background-color:#dcdcff\">과</span> <span style=\"background-color:#ffb6b6\">귀엽</span> <span style=\"background-color:#f8f8ff\">은</span> <span style=\"background-color:#ff8383\">여자아이</span> <span style=\"background-color:#9090ff\">가</span> <span style=\"background-color:#d0d0ff\">만나</span> <span style=\"background-color:#ffe4e4\">아</span> <span style=\"background-color:#fff8f8\">뿜</span> <span style=\"background-color:#e2e2ff\">어</span> <span style=\"background-color:#fff6f6\">내</span> <span style=\"background-color:#2020ff\">는</span> <span style=\"background-color:#f8f8ff\">매력</span> <span style=\"background-color:#fff2f2\">에</span> <span style=\"background-color:#ffcece\">빠지</span> <span style=\"background-color:#c3c3ff\">었다</span> \n"
      ],
      "text/plain": [
       "<IPython.core.display.HTML object>"
      ]
     },
     "metadata": {},
     "output_type": "display_data"
    },
    {
     "name": "stdout",
     "output_type": "stream",
     "text": [
      "-----------------------------------------------------------\n",
      "| 실제 레이블 :  부정  | 예측 레이블: 부정\n"
     ]
    },
    {
     "data": {
      "text/html": [
       "<span style=\"background-color:#d2d2ff\">제목</span> \n"
      ],
      "text/plain": [
       "<IPython.core.display.HTML object>"
      ]
     },
     "metadata": {},
     "output_type": "display_data"
    },
    {
     "name": "stdout",
     "output_type": "stream",
     "text": [
      "-----------------------------------------------------------\n",
      "| 실제 레이블 :  긍정  | 예측 레이블: 긍정\n"
     ]
    },
    {
     "data": {
      "text/html": [
       "<span style=\"background-color:#ffd3d3\">작품</span> <span style=\"background-color:#ff9898\">라는게</span> <span style=\"background-color:#e0e0ff\">믿</span> <span style=\"background-color:#e3e3ff\">기</span> <span style=\"background-color:#ffb0b0\">지</span> <span style=\"background-color:#fff4f4\">가</span> <span style=\"background-color:#ff7c7c\">아</span> <span style=\"background-color:#6e6eff\">디테일하</span> <span style=\"background-color:#dadaff\">다</span> <span style=\"background-color:#ffe8e8\">!</span> <span style=\"background-color:#fffafa\">니</span> <span style=\"background-color:#d8d8ff\">퀸</span> <span style=\"background-color:#f2f2ff\">의</span> <span style=\"background-color:#0808ff\">명연기</span> <span style=\"background-color:#f2f2ff\">또한</span> <span style=\"background-color:#ffecec\">물론</span> <span style=\"background-color:#ffd6d6\">~</span> \n"
      ],
      "text/plain": [
       "<IPython.core.display.HTML object>"
      ]
     },
     "metadata": {},
     "output_type": "display_data"
    },
    {
     "name": "stdout",
     "output_type": "stream",
     "text": [
      "-----------------------------------------------------------\n",
      "| 실제 레이블 :  긍정  | 예측 레이블: 긍정\n"
     ]
    },
    {
     "data": {
      "text/html": [
       "<span style=\"background-color:#ffd3d3\">재미있</span> <span style=\"background-color:#ffc3c3\">었다</span> <span style=\"background-color:#e0e0ff\">!</span> \n"
      ],
      "text/plain": [
       "<IPython.core.display.HTML object>"
      ]
     },
     "metadata": {},
     "output_type": "display_data"
    },
    {
     "name": "stdout",
     "output_type": "stream",
     "text": [
      "-----------------------------------------------------------\n",
      "| 실제 레이블 :  긍정  | 예측 레이블: 긍정\n"
     ]
    },
    {
     "data": {
      "text/html": [
       "<span style=\"background-color:#ffd2d2\">중간</span> <span style=\"background-color:#ffa0a0\">에</span> <span style=\"background-color:#d6d6ff\">화면</span> <span style=\"background-color:#e0e0ff\">좀</span> <span style=\"background-color:#ffaaaa\">끊기</span> <span style=\"background-color:#fefeff\">는</span> <span style=\"background-color:#ff7979\">것</span> <span style=\"background-color:#7e7eff\">빼</span> <span style=\"background-color:#f0f0ff\">곤</span> <span style=\"background-color:#ffdede\">널</span> <span style=\"background-color:#fffcfc\">ㅁ</span> <span style=\"background-color:#d3d3ff\">좋</span> <span style=\"background-color:#fffcfc\">아아</span> <span style=\"background-color:#0808ff\">~</span> \n"
      ],
      "text/plain": [
       "<IPython.core.display.HTML object>"
      ]
     },
     "metadata": {},
     "output_type": "display_data"
    },
    {
     "name": "stdout",
     "output_type": "stream",
     "text": [
      "-----------------------------------------------------------\n",
      "| 실제 레이블 :  긍정  | 예측 레이블: 긍정\n"
     ]
    },
    {
     "data": {
      "text/html": [
       "<span style=\"background-color:#ffe2e2\">최고최고</span> <span style=\"background-color:#ff8c8c\">!</span> <span style=\"background-color:#e0e0ff\">바다</span> <span style=\"background-color:#e6e6ff\">까지</span> <span style=\"background-color:#ffb8b8\">!</span> <span style=\"background-color:#fffafa\">4차원</span> <span style=\"background-color:#ff8888\">고양이</span> <span style=\"background-color:#6c6cff\">로봇</span> <span style=\"background-color:#c8c8ff\">도라에몽</span> <span style=\"background-color:#ffe4e4\">과</span> <span style=\"background-color:#fff8f8\">함께하</span> <span style=\"background-color:#dcdcff\">는</span> <span style=\"background-color:#f8f8ff\">진구</span> <span style=\"background-color:#0c0cff\">와</span> <span style=\"background-color:#f2f2ff\">친구들</span> <span style=\"background-color:#fff6f6\">의</span> <span style=\"background-color:#ffd2d2\">이야기</span> <span style=\"background-color:#c2c2ff\">!</span> <span style=\"background-color:#e3e3ff\">지</span> <span style=\"background-color:#ffb6b6\">가</span> <span style=\"background-color:#fefeff\">아ㅁ</span> <span style=\"background-color:#ffcccc\">~</span> \n"
      ],
      "text/plain": [
       "<IPython.core.display.HTML object>"
      ]
     },
     "metadata": {},
     "output_type": "display_data"
    },
    {
     "name": "stdout",
     "output_type": "stream",
     "text": [
      "-----------------------------------------------------------\n",
      "| 실제 레이블 :  부정  | 예측 레이블: 부정\n"
     ]
    },
    {
     "data": {
      "text/html": [
       "<span style=\"background-color:#d2d2ff\">후속작</span> <span style=\"background-color:#babaff\">계획</span> <span style=\"background-color:#ffdede\">은</span> <span style=\"background-color:#ffeaea\">없</span> <span style=\"background-color:#aeaeff\">나</span> <span style=\"background-color:#fff4f4\">요</span> <span style=\"background-color:#8a8aff\">..?</span> <span style=\"background-color:#ff8282\">ㅜ</span> \n"
      ],
      "text/plain": [
       "<IPython.core.display.HTML object>"
      ]
     },
     "metadata": {},
     "output_type": "display_data"
    },
    {
     "name": "stdout",
     "output_type": "stream",
     "text": [
      "-----------------------------------------------------------\n",
      "| 실제 레이블 :  긍정  | 예측 레이블: 긍정\n"
     ]
    },
    {
     "data": {
      "text/html": [
       "<span style=\"background-color:#ffdada\">단</span> <span style=\"background-color:#ffa0a0\">'</span> <span style=\"background-color:#d8d8ff\">감동</span> <span style=\"background-color:#e2e2ff\">'</span> \n"
      ],
      "text/plain": [
       "<IPython.core.display.HTML object>"
      ]
     },
     "metadata": {},
     "output_type": "display_data"
    },
    {
     "name": "stdout",
     "output_type": "stream",
     "text": [
      "-----------------------------------------------------------\n",
      "| 실제 레이블 :  부정  | 예측 레이블: 부정\n"
     ]
    },
    {
     "data": {
      "text/html": [
       "<span style=\"background-color:#e0e0ff\">완전</span> <span style=\"background-color:#aaaaff\">왜</span> <span style=\"background-color:#ffd2d2\">평점</span> <span style=\"background-color:#ffe6e6\">??</span> \n"
      ],
      "text/plain": [
       "<IPython.core.display.HTML object>"
      ]
     },
     "metadata": {},
     "output_type": "display_data"
    },
    {
     "name": "stdout",
     "output_type": "stream",
     "text": [
      "-----------------------------------------------------------\n",
      "| 실제 레이블 :  긍정  | 예측 레이블: 긍정\n"
     ]
    },
    {
     "data": {
      "text/html": [
       "<span style=\"background-color:#ffcccc\">제임스</span> <span style=\"background-color:#ffbebe\">내</span> <span style=\"background-color:#e3e3ff\">어</span> <span style=\"background-color:#e2e2ff\">목표</span> <span style=\"background-color:#ffaeae\">ㅁ</span> <span style=\"background-color:#f2f2ff\">ㄷ</span> \n"
      ],
      "text/plain": [
       "<IPython.core.display.HTML object>"
      ]
     },
     "metadata": {},
     "output_type": "display_data"
    },
    {
     "name": "stdout",
     "output_type": "stream",
     "text": [
      "-----------------------------------------------------------\n",
      "| 실제 레이블 :  긍정  | 예측 레이블: 긍정\n"
     ]
    },
    {
     "data": {
      "text/html": [
       "<span style=\"background-color:#ffd8d8\">영화</span> <span style=\"background-color:#ffa6a6\">..</span> <span style=\"background-color:#d2d2ff\">색감</span> <span style=\"background-color:#e8e8ff\">정말</span> <span style=\"background-color:#ffa6a6\">예술</span> <span style=\"background-color:#fcfcff\">죠</span> <span style=\"background-color:#ff5858\">강렬</span> <span style=\"background-color:#7878ff\">하고</span> <span style=\"background-color:#fffcfc\">화</span> <span style=\"background-color:#ffe6e6\">리어</span> <span style=\"background-color:#f8f8ff\">하</span> <span style=\"background-color:#c2c2ff\">고</span> <span style=\"background-color:#fffafa\">..</span> <span style=\"background-color:#0404ff\">의</span> <span style=\"background-color:#e8e8ff\">너무</span> <span style=\"background-color:#ffe8e8\">도</span> <span style=\"background-color:#ffd2d2\">아름답</span> <span style=\"background-color:#dadaff\">던</span> <span style=\"background-color:#f3f3ff\">리즈시절</span> <span style=\"background-color:#ffeeee\">도</span> <span style=\"background-color:#fffefe\">보</span> <span style=\"background-color:#ffbebe\">ㄹ</span> <span style=\"background-color:#ffdede\">수</span> <span style=\"background-color:#ffdcdc\">있</span> <span style=\"background-color:#5c5cff\">고</span> <span style=\"background-color:#bcbcff\">..</span> \n"
      ],
      "text/plain": [
       "<IPython.core.display.HTML object>"
      ]
     },
     "metadata": {},
     "output_type": "display_data"
    },
    {
     "name": "stdout",
     "output_type": "stream",
     "text": [
      "-----------------------------------------------------------\n",
      "| 실제 레이블 :  긍정  | 예측 레이블: 긍정\n"
     ]
    },
    {
     "data": {
      "text/html": [
       "<span style=\"background-color:#ffcece\">ost</span> <span style=\"background-color:#ffc6c6\">.</span> <span style=\"background-color:#d3d3ff\">..</span> <span style=\"background-color:#eaeaff\">정말</span> <span style=\"background-color:#ffb3b3\">좋</span> <span style=\"background-color:#f2f2ff\">아아</span> <span style=\"background-color:#ff8383\">요</span> <span style=\"background-color:#8686ff\">.</span> <span style=\"background-color:#e6e6ff\">영화</span> <span style=\"background-color:#ffd6d6\">자체</span> <span style=\"background-color:#fff2f2\">도</span> <span style=\"background-color:#dcdcff\">..</span> <span style=\"background-color:#ffe6e6\">의문</span> <span style=\"background-color:#0000ff\">은</span> <span style=\"background-color:#eaeaff\">남</span> <span style=\"background-color:#ffe0e0\">지</span> <span style=\"background-color:#ffdcdc\">말</span> <span style=\"background-color:#c8c8ff\">ㄴ</span> <span style=\"background-color:#e0e0ff\">ㅎㅎ</span> \n"
      ],
      "text/plain": [
       "<IPython.core.display.HTML object>"
      ]
     },
     "metadata": {},
     "output_type": "display_data"
    },
    {
     "name": "stdout",
     "output_type": "stream",
     "text": [
      "-----------------------------------------------------------\n",
      "| 실제 레이블 :  긍정  | 예측 레이블: 긍정\n"
     ]
    },
    {
     "data": {
      "text/html": [
       "<span style=\"background-color:#ffd8d8\">다</span> <span style=\"background-color:#ffa8a8\">...</span> <span style=\"background-color:#d6d6ff\">생각</span> <span style=\"background-color:#e3e3ff\">하</span> <span style=\"background-color:#ffb2b2\">ㄹ수록</span> <span style=\"background-color:#fcfcff\">아쉽</span> <span style=\"background-color:#ff6e6e\">다</span> <span style=\"background-color:#9292ff\">...</span> <span style=\"background-color:#e2e2ff\">단순</span> <span style=\"background-color:#ffeeee\">sm</span> <span style=\"background-color:#fff8f8\">상업영화</span> <span style=\"background-color:#d2d2ff\">라</span> <span style=\"background-color:#fff0f0\">고</span> <span style=\"background-color:#1a1aff\">생각</span> <span style=\"background-color:#ececff\">하</span> <span style=\"background-color:#ffe4e4\">기</span> <span style=\"background-color:#ffd2d2\">엔</span> <span style=\"background-color:#d2d2ff\">...</span> <span style=\"background-color:#fcfcff\">두</span> <span style=\"background-color:#ffdede\">사람</span> <span style=\"background-color:#fffcfc\">의</span> <span style=\"background-color:#ffcaca\">춤</span> <span style=\"background-color:#ffd2d2\">너무</span> <span style=\"background-color:#ffe6e6\">인상적</span> <span style=\"background-color:#6868ff\">다</span> <span style=\"background-color:#bebeff\">...</span> \n"
      ],
      "text/plain": [
       "<IPython.core.display.HTML object>"
      ]
     },
     "metadata": {},
     "output_type": "display_data"
    },
    {
     "name": "stdout",
     "output_type": "stream",
     "text": [
      "-----------------------------------------------------------\n"
     ]
    }
   ],
   "source": [
    "for index, i in enumerate(positive_list):\n",
    "    target_data = x_test[i]\n",
    "    target_class = np.argmax(predictions[i])\n",
    "\n",
    "    scores, Gx =get_relavance(target_data, target_class)\n",
    "    R_words_SA       = (np.linalg.norm(Gx,ord=2, axis=0))**2   # compute word-level Sensitivity Analysis relevances\n",
    "    R_words_GI       = np.dot(target_data, Gx) \n",
    "\n",
    "    words = index_to_word(target_data)\n",
    "    \n",
    "    if len(words) > 0 :\n",
    "        print(\"| 실제 레이블 : \", int_to_str(target_class), \" | 예측 레이블:\", int_to_str(np.argmax(predictions[i])))\n",
    "        display(HTML(html_heatmap(words, R_words_GI)))\n",
    "\n",
    "        print(\"-----------------------------------------------------------\")\n",
    "        \n",
    "    if index == 50: # 50개만 출력\n",
    "        break"
   ]
  }
 ],
 "metadata": {
  "kernelspec": {
   "display_name": "Python 3",
   "language": "python",
   "name": "python3"
  }
 },
 "nbformat": 4,
 "nbformat_minor": 2
}
